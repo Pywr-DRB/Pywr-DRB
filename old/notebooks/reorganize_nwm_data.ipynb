{
 "cells": [
  {
   "attachments": {},
   "cell_type": "markdown",
   "metadata": {},
   "source": [
    "This script is used to pull NWM data of different formats and reorganize it into a single CSV.\n"
   ]
  },
  {
   "cell_type": "code",
   "execution_count": 1,
   "metadata": {},
   "outputs": [],
   "source": [
    "import pandas as pd\n",
    "import numpy as np\n",
    "from prep_input_data import read_modeled_estimates\n",
    "from pywr_drb_node_data import nwm_site_matches\n",
    "\n",
    "start_date = '1983/10/01'\n",
    "end_date = '2016/12/31'\n",
    "\n",
    "# Directories\n",
    "fig_dir = 'figs/'\n",
    "input_dir = 'input_data/'\n",
    "weap_dir = input_dir + 'WEAP_23Aug2022_gridmet/'\n",
    "\n",
    "# Constants\n",
    "cms_to_mgd = 22.82\n",
    "cm_to_mg = 264.17/1e6\n",
    "cfs_to_mgd = 0.0283 * 22824465.32 / 1e6\n"
   ]
  },
  {
   "cell_type": "code",
   "execution_count": 2,
   "metadata": {},
   "outputs": [],
   "source": [
    "# Read NWM data from different sources\n",
    "nwm_gauge_flow = read_modeled_estimates(f'{input_dir}modeled_gages/streamflow_daily_nwmv21.txt',\n",
    "                                    '\\t', 'UTC_date', 'site_no', 'q_cms_mod', start_date, end_date)\n",
    "nwm_lake_flow = read_modeled_estimates(f'{input_dir}modeled_gages/lakes_daily_1979_2020_nwmv21.csv',\n",
    "                                        ',', 'UTC_date', 'feature_id', 'inflow', start_date, end_date)\n",
    "nwm_segment_flow = read_modeled_estimates(f'{input_dir}modeled_gages/streamflow_daily_1979_2020_nwmv21_reaches.csv',\n",
    "                                        ',', 'UTC_date', 'link', 'q_cms', start_date, end_date)\n",
    "nwm_lake_flow.columns = [str(i) for i in nwm_lake_flow.columns]\n",
    "nwm_segment_flow.columns = [str(i) for i in nwm_segment_flow.columns]"
   ]
  },
  {
   "cell_type": "code",
   "execution_count": 3,
   "metadata": {},
   "outputs": [
    {
     "data": {
      "text/plain": [
       "(12146, 99)"
      ]
     },
     "execution_count": 3,
     "metadata": {},
     "output_type": "execute_result"
    }
   ],
   "source": [
    "all_nwm_data = pd.concat([nwm_gauge_flow, nwm_lake_flow, nwm_segment_flow], axis=1)\n",
    "all_nwm_data.shape"
   ]
  },
  {
   "cell_type": "code",
   "execution_count": 4,
   "metadata": {},
   "outputs": [
    {
     "data": {
      "text/plain": [
       "2613174       451.423320\n",
       "1748473       357.737843\n",
       "4146742       122.742336\n",
       "2741600       209.484510\n",
       "2739068        59.378525\n",
       "120052035      60.046894\n",
       "4148582       188.054188\n",
       "4186689        90.556483\n",
       "4185065       376.364616\n",
       "2588031         0.720830\n",
       "2585287        10.477591\n",
       "2591099         9.859893\n",
       "2589015         2.234628\n",
       "4779981       173.490286\n",
       "4778721         3.850229\n",
       "4782813       163.013342\n",
       "4780087        64.118252\n",
       "4648728        18.061543\n",
       "01425000      454.044604\n",
       "01417000      360.721285\n",
       "2617364      1698.217456\n",
       "01436000      129.858166\n",
       "01433500      198.124534\n",
       "4151628      3627.969296\n",
       "01449800       91.556837\n",
       "01447800      378.343854\n",
       "2590277      7502.417178\n",
       "01463620       21.887486\n",
       "2590137        98.149466\n",
       "01470960      163.697153\n",
       "4784841      2066.623573\n",
       "4652144       268.574146\n",
       "dtype: float64"
      ]
     },
     "execution_count": 4,
     "metadata": {},
     "output_type": "execute_result"
    }
   ],
   "source": [
    "drb_nwm_flows = pd.DataFrame(index = pd.date_range(start_date, end_date), columns = np.array([*nwm_site_matches.values()]).flatten())\n",
    "for node, site_id in nwm_site_matches.items():\n",
    "    drb_nwm_flows.loc[:, site_id] = all_nwm_data.loc[:, site_id]\n",
    "drb_nwm_flows.mean()"
   ]
  },
  {
   "cell_type": "code",
   "execution_count": 6,
   "metadata": {},
   "outputs": [],
   "source": [
    "drb_nwm_flows.to_csv('./input_data/modeled_gages/streamflow_daily_nwmv21_mgd.csv', sep=',')"
   ]
  },
  {
   "cell_type": "code",
   "execution_count": null,
   "metadata": {},
   "outputs": [],
   "source": []
  }
 ],
 "metadata": {
  "kernelspec": {
   "display_name": "base",
   "language": "python",
   "name": "python3"
  },
  "language_info": {
   "codemirror_mode": {
    "name": "ipython",
    "version": 3
   },
   "file_extension": ".py",
   "mimetype": "text/x-python",
   "name": "python",
   "nbconvert_exporter": "python",
   "pygments_lexer": "ipython3",
   "version": "3.8.16"
  },
  "orig_nbformat": 4
 },
 "nbformat": 4,
 "nbformat_minor": 2
}
