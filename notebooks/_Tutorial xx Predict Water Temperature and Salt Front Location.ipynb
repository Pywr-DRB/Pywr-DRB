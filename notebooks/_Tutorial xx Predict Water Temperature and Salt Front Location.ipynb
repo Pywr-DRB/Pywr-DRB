{
 "cells": [
  {
   "cell_type": "markdown",
   "id": "4d85667c",
   "metadata": {},
   "source": [
    "# Introduction to Pywr-DRB\n",
    "## Overview:\n",
    "\n",
    "This tutorial will guide you through linking the `PywrDRB-ML` plug-in to predict water temperature at Lordville (TempLSTM) and the salt front location (SalinityLSTM), two critical variables for thermal mitigation efforts aimed at protecting cold-water fish and for salt front repulsion to safeguard Philadelphia's drinking water intake.\n",
    "\n",
    "To activate these features, users must first download the [`PywrDRB-ML` plug-in](https://github.com/philip928lin/PywrDRB-ML).\n",
    "\n",
    "Currently, TempLSTM and SalinityLSTM have the simulation capacity shown below.\n",
    "\n",
    "| ML model        | From        | To         |\n",
    "|-----------------|-------------|------------|\n",
    "| TempLSTM        | 7/28/2006   | 12/31/2023 | \n",
    "| SalinityLSTM    | 10/1/1963   | 12/31/2023 | \n",
    "\n",
    "\n",
    "# Step 1: Make model with TempLSTM and SalinityLSTM"
   ]
  },
  {
   "cell_type": "markdown",
   "id": "685d444e",
   "metadata": {},
   "source": []
  },
  {
   "cell_type": "code",
   "execution_count": null,
   "id": "1f824788",
   "metadata": {},
   "outputs": [],
   "source": [
    "import os\n",
    "import pywrdrb\n",
    "wd = \"your working directory here\"\n",
    "PywrDRB_ML_plugin_path = \"PywrDRB_ML directory\"\n",
    "\n",
    "inflow_type = 'pub_nhmv10_BC_withObsScaled'\n",
    "model_filename = os.path.join(wd, f\"{inflow_type}.json\")\n",
    "output_filename = os.path.join(wd, f\"{inflow_type}.hdf5\")\n",
    "\n",
    "# TempLSTM settings\n",
    "temp_options = {\n",
    "    \"PywrDRB_ML_plugin_path\": PywrDRB_ML_plugin_path, \n",
    "    \"start_date\": None,                     # If other start date is desired, set here\n",
    "    \"activate_thermal_control\": False,      # If True, will activate thermal control. This feature is not yet available.\n",
    "    \"Q_C_lstm_var_name\": \"QbcTavg_Q_C\",     # LSTM variable name for Q_C flow (01425000)\n",
    "    \"Q_i_lstm_var_name\": \"QbcTavg_T_C\",     # LSTM variable name for Q_i flow (01417000 + Lordville natural inflow)\n",
    "    \"disable_tqdm\": False                   # If True, will disable tqdm progress bars\n",
    "    }\n",
    "\n",
    "# SalinityLSTM settings\n",
    "salinity_options = {\n",
    "    \"PywrDRB_ML_plugin_path\": PywrDRB_ML_plugin_path, \n",
    "    \"start_date\": None,                             # If other start date is desired, set here\n",
    "    \"Q_Trenton_lstm_var_name\": \"01463500_bc\",       # LSTM variable name for Q_Trenton flow (01463500)\n",
    "    \"Q_Schuylkill_lstm_var_name\": \"01474500_bc\",    # LSTM variable name for Q_Schuylkill flow (01474500)\n",
    "    \"disable_tqdm\": False                           # If True, will disable tqdm progress bars   \n",
    "    }\n",
    "\n",
    "mb = pywrdrb.ModelBuilder(\n",
    "    inflow_type=inflow_type, \n",
    "    start_date=\"2006-01-01\",\n",
    "    end_date=\"1970-12-31\",\n",
    "    options={\n",
    "        \"temperature_model\": temp_options,\n",
    "        \"salinity_model\": salinity_options,\n",
    "        }\n",
    "    )\n",
    "\n",
    "mb.make_model()\n",
    "mb.write_model(model_filename)"
   ]
  },
  {
   "cell_type": "markdown",
   "id": "0d237883",
   "metadata": {},
   "source": [
    "# Step 2: Run model"
   ]
  },
  {
   "cell_type": "code",
   "execution_count": null,
   "id": "fa7c31c6",
   "metadata": {
    "vscode": {
     "languageId": "plaintext"
    }
   },
   "outputs": [],
   "source": [
    "model = pywrdrb.Model.load(str(model_filename))\n",
    "recorder = pywrdrb.OutputRecorder(\n",
    "    model=model,\n",
    "    output_filename=output_filename,\n",
    "    parameters=[p for p in model.parameters if p.name]\n",
    ")\n",
    "stats = model.run()"
   ]
  },
  {
   "cell_type": "markdown",
   "id": "58875031",
   "metadata": {},
   "source": [
    "# Step 3: Load TempLSTM and SalinityLSTM related ouputs"
   ]
  },
  {
   "cell_type": "code",
   "execution_count": null,
   "id": "ffcc3e02",
   "metadata": {},
   "outputs": [],
   "source": [
    "data = pywrdrb.Data()\n",
    "results_sets = [\n",
    "    'temperature', \n",
    "    'salinity', \n",
    "    ]\n",
    "data.load_output(output_filenames=[output_filename], results_sets=results_sets)\n",
    "\n",
    "df_temperature = data.temperature[inflow_type][0]\n",
    "df_salinity = data.salinity[inflow_type][0]"
   ]
  },
  {
   "cell_type": "markdown",
   "id": "d3ebe4b5",
   "metadata": {},
   "source": [
    "Any output values that equals to `-99` is not an error. It represents no value should be outputed from that parameter."
   ]
  },
  {
   "cell_type": "code",
   "execution_count": null,
   "id": "04c604f3",
   "metadata": {},
   "outputs": [],
   "source": [
    "df_temperature.head(5)"
   ]
  },
  {
   "cell_type": "code",
   "execution_count": null,
   "id": "bcf52af6",
   "metadata": {},
   "outputs": [],
   "source": [
    "df_salinity.haead(5)"
   ]
  }
 ],
 "metadata": {
  "language_info": {
   "name": "python"
  }
 },
 "nbformat": 4,
 "nbformat_minor": 5
}
