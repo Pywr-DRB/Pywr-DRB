{
 "cells": [
  {
   "cell_type": "markdown",
   "metadata": {},
   "source": [
    "## Overview:\n",
    "If you want to learn how to use the [Pywr-DRB](https://github.com/Pywr-DRB/Pywr-DRB) water resource model, you are in the right place. \n",
    "\n",
    "This page is designed to introduce you to the Pywr-DRB code base, help you set up your environment, and show you how to access and begin interacting with a Pywr-DRB model instance.  \n",
    "\n",
    "### Links:\n",
    "- [The Pywr-DRB GitHub repository](https://github.com/Pywr-DRB/Pywr-DRB)\n",
    "- [The Pywr-DRB documentation site](https://pywr-drb.github.io/Pywr-DRB/intro.html)"
   ]
  },
  {
   "cell_type": "markdown",
   "metadata": {},
   "source": [
    "### Tutorial content:\n",
    "Fill once done. "
   ]
  },
  {
   "cell_type": "markdown",
   "metadata": {},
   "source": [
    "***\n",
    "## 1.0 Getting Started\n"
   ]
  },
  {
   "cell_type": "markdown",
   "metadata": {},
   "source": [
    "### 2.1 Input Data\n",
    "\n",
    "Pywr-DRB is able to run simulations using any set of natural streamflow data. It is currently set up to run simulations using multiple different datasets. See the [list of available streamflow scenarios currently implemented in the documentation.](https://pywr-drb.github.io/Pywr-DRB/Model/pywr_drb_inflow_scenarios.html)\n",
    "\n",
    "Each dataset is given a unique identifying name (e.g., `\"nhmv10\"`) which is used at multiple points in the Pywr-DRB workflow. "
   ]
  },
  {
   "cell_type": "code",
   "execution_count": 1,
   "metadata": {},
   "outputs": [],
   "source": [
    "import sys\n",
    "\n",
    "path_to_pywrdrb = '../'\n",
    "sys.path.append(path_to_pywrdrb)\n",
    "\n",
    "model_filename = 'drb_model_full_nhmv10_withObsScaled.json'\n"
   ]
  },
  {
   "cell_type": "markdown",
   "metadata": {},
   "source": [
    "> ACTIVITY: "
   ]
  },
  {
   "cell_type": "code",
   "execution_count": 2,
   "metadata": {},
   "outputs": [],
   "source": [
    "from pywr.model import Model\n",
    "\n",
    "# We need to import pywrdrb.parameters in order to load the module\n",
    "# otherwise pywr will not recognize custom parameters\n",
    "import pywrdrb.parameters\n",
    "\n",
    "### Load the model\n",
    "filepath = f'{path_to_pywrdrb}/pywrdrb/model_data/{model_filename}'\n",
    "model = Model.load(filepath)"
   ]
  },
  {
   "cell_type": "code",
   "execution_count": 10,
   "metadata": {},
   "outputs": [
    {
     "name": "stdout",
     "output_type": "stream",
     "text": [
      "There are 177 nodes in the model.\n"
     ]
    }
   ],
   "source": [
    "# Make a list of all model nodes\n",
    "model_nodes = [n for n in model.nodes if n.name]\n",
    "\n",
    "print(f'There are {len(model_nodes)} nodes in the model.')"
   ]
  },
  {
   "cell_type": "code",
   "execution_count": 3,
   "metadata": {},
   "outputs": [
    {
     "name": "stdout",
     "output_type": "stream",
     "text": [
      "There are 394 parameters in the model\n"
     ]
    }
   ],
   "source": [
    "### Read model parameter names into a list\n",
    "model_parameters = [p for p in model.parameters if p.name]\n",
    "\n",
    "print(f'There are {len(model_parameters)} parameters in the model')"
   ]
  },
  {
   "cell_type": "code",
   "execution_count": null,
   "metadata": {},
   "outputs": [],
   "source": []
  },
  {
   "cell_type": "markdown",
   "metadata": {},
   "source": [
    "## 4.0 Running a PywrDRB simulation\n"
   ]
  },
  {
   "cell_type": "code",
   "execution_count": 18,
   "metadata": {},
   "outputs": [
    {
     "name": "stderr",
     "output_type": "stream",
     "text": [
      "c:\\Users\\tjame\\Desktop\\Research\\DRB\\Pywr-DRB\\Pywr-DRB\\win_venv\\lib\\site-packages\\tables\\path.py:137: NaturalNameWarning: object name is not a valid Python identifier: 'delay_wallenpaupack - delay parameter'; it does not match the pattern ``^[a-zA-Z_][a-zA-Z0-9_]*$``; you will not be able to use natural naming to access this object; using ``getattr()`` will still work, though\n",
      "  check_attribute_name(name)\n",
      "c:\\Users\\tjame\\Desktop\\Research\\DRB\\Pywr-DRB\\Pywr-DRB\\win_venv\\lib\\site-packages\\tables\\path.py:137: NaturalNameWarning: object name is not a valid Python identifier: 'delay_prompton - delay parameter'; it does not match the pattern ``^[a-zA-Z_][a-zA-Z0-9_]*$``; you will not be able to use natural naming to access this object; using ``getattr()`` will still work, though\n",
      "  check_attribute_name(name)\n",
      "c:\\Users\\tjame\\Desktop\\Research\\DRB\\Pywr-DRB\\Pywr-DRB\\win_venv\\lib\\site-packages\\tables\\path.py:137: NaturalNameWarning: object name is not a valid Python identifier: 'delay_shoholaMarsh - delay parameter'; it does not match the pattern ``^[a-zA-Z_][a-zA-Z0-9_]*$``; you will not be able to use natural naming to access this object; using ``getattr()`` will still work, though\n",
      "  check_attribute_name(name)\n",
      "c:\\Users\\tjame\\Desktop\\Research\\DRB\\Pywr-DRB\\Pywr-DRB\\win_venv\\lib\\site-packages\\tables\\path.py:137: NaturalNameWarning: object name is not a valid Python identifier: 'delay_merrillCreek - delay parameter'; it does not match the pattern ``^[a-zA-Z_][a-zA-Z0-9_]*$``; you will not be able to use natural naming to access this object; using ``getattr()`` will still work, though\n",
      "  check_attribute_name(name)\n",
      "c:\\Users\\tjame\\Desktop\\Research\\DRB\\Pywr-DRB\\Pywr-DRB\\win_venv\\lib\\site-packages\\tables\\path.py:137: NaturalNameWarning: object name is not a valid Python identifier: 'delay_hopatcong - delay parameter'; it does not match the pattern ``^[a-zA-Z_][a-zA-Z0-9_]*$``; you will not be able to use natural naming to access this object; using ``getattr()`` will still work, though\n",
      "  check_attribute_name(name)\n",
      "c:\\Users\\tjame\\Desktop\\Research\\DRB\\Pywr-DRB\\Pywr-DRB\\win_venv\\lib\\site-packages\\tables\\path.py:137: NaturalNameWarning: object name is not a valid Python identifier: 'delay_nockamixon - delay parameter'; it does not match the pattern ``^[a-zA-Z_][a-zA-Z0-9_]*$``; you will not be able to use natural naming to access this object; using ``getattr()`` will still work, though\n",
      "  check_attribute_name(name)\n",
      "c:\\Users\\tjame\\Desktop\\Research\\DRB\\Pywr-DRB\\Pywr-DRB\\win_venv\\lib\\site-packages\\tables\\path.py:137: NaturalNameWarning: object name is not a valid Python identifier: 'delay_ontelaunee - delay parameter'; it does not match the pattern ``^[a-zA-Z_][a-zA-Z0-9_]*$``; you will not be able to use natural naming to access this object; using ``getattr()`` will still work, though\n",
      "  check_attribute_name(name)\n",
      "c:\\Users\\tjame\\Desktop\\Research\\DRB\\Pywr-DRB\\Pywr-DRB\\win_venv\\lib\\site-packages\\tables\\path.py:137: NaturalNameWarning: object name is not a valid Python identifier: 'delay_stillCreek - delay parameter'; it does not match the pattern ``^[a-zA-Z_][a-zA-Z0-9_]*$``; you will not be able to use natural naming to access this object; using ``getattr()`` will still work, though\n",
      "  check_attribute_name(name)\n",
      "c:\\Users\\tjame\\Desktop\\Research\\DRB\\Pywr-DRB\\Pywr-DRB\\win_venv\\lib\\site-packages\\tables\\path.py:137: NaturalNameWarning: object name is not a valid Python identifier: 'delay_greenLane - delay parameter'; it does not match the pattern ``^[a-zA-Z_][a-zA-Z0-9_]*$``; you will not be able to use natural naming to access this object; using ``getattr()`` will still work, though\n",
      "  check_attribute_name(name)\n",
      "c:\\Users\\tjame\\Desktop\\Research\\DRB\\Pywr-DRB\\Pywr-DRB\\win_venv\\lib\\site-packages\\tables\\path.py:137: NaturalNameWarning: object name is not a valid Python identifier: 'delay_delLordville - delay parameter'; it does not match the pattern ``^[a-zA-Z_][a-zA-Z0-9_]*$``; you will not be able to use natural naming to access this object; using ``getattr()`` will still work, though\n",
      "  check_attribute_name(name)\n",
      "c:\\Users\\tjame\\Desktop\\Research\\DRB\\Pywr-DRB\\Pywr-DRB\\win_venv\\lib\\site-packages\\tables\\path.py:137: NaturalNameWarning: object name is not a valid Python identifier: 'delay_01436000 - delay parameter'; it does not match the pattern ``^[a-zA-Z_][a-zA-Z0-9_]*$``; you will not be able to use natural naming to access this object; using ``getattr()`` will still work, though\n",
      "  check_attribute_name(name)\n",
      "c:\\Users\\tjame\\Desktop\\Research\\DRB\\Pywr-DRB\\Pywr-DRB\\win_venv\\lib\\site-packages\\tables\\path.py:137: NaturalNameWarning: object name is not a valid Python identifier: 'delay_delMontague - delay parameter'; it does not match the pattern ``^[a-zA-Z_][a-zA-Z0-9_]*$``; you will not be able to use natural naming to access this object; using ``getattr()`` will still work, though\n",
      "  check_attribute_name(name)\n",
      "c:\\Users\\tjame\\Desktop\\Research\\DRB\\Pywr-DRB\\Pywr-DRB\\win_venv\\lib\\site-packages\\tables\\path.py:137: NaturalNameWarning: object name is not a valid Python identifier: 'delay_01449800 - delay parameter'; it does not match the pattern ``^[a-zA-Z_][a-zA-Z0-9_]*$``; you will not be able to use natural naming to access this object; using ``getattr()`` will still work, though\n",
      "  check_attribute_name(name)\n",
      "c:\\Users\\tjame\\Desktop\\Research\\DRB\\Pywr-DRB\\Pywr-DRB\\win_venv\\lib\\site-packages\\tables\\path.py:137: NaturalNameWarning: object name is not a valid Python identifier: 'delay_01447800 - delay parameter'; it does not match the pattern ``^[a-zA-Z_][a-zA-Z0-9_]*$``; you will not be able to use natural naming to access this object; using ``getattr()`` will still work, though\n",
      "  check_attribute_name(name)\n",
      "c:\\Users\\tjame\\Desktop\\Research\\DRB\\Pywr-DRB\\Pywr-DRB\\win_venv\\lib\\site-packages\\tables\\path.py:137: NaturalNameWarning: object name is not a valid Python identifier: 'delay_01470960 - delay parameter'; it does not match the pattern ``^[a-zA-Z_][a-zA-Z0-9_]*$``; you will not be able to use natural naming to access this object; using ``getattr()`` will still work, though\n",
      "  check_attribute_name(name)\n"
     ]
    }
   ],
   "source": [
    "# The pywr.recorders.TablesRecorder class is used store simulation results\n",
    "# the simulation data is stored in an hdf5 file which is accessed during the simulation\n",
    "from pywr.recorders import TablesRecorder\n",
    "\n",
    "output_filename = f'tutorial_drb_output_nhmv10_withObsScaled.hdf5'\n",
    "\n",
    "### Add a storage recorder\n",
    "TablesRecorder(model, \n",
    "\t\t\t   output_filename, \n",
    "\t\t\t   parameters=model_parameters)\n",
    "\n",
    "### Run the model\n",
    "stats = model.run()\n",
    "\n",
    "### Convert simulation data to DataFrame\n",
    "stats_df = stats.to_dataframe()"
   ]
  },
  {
   "cell_type": "code",
   "execution_count": null,
   "metadata": {},
   "outputs": [],
   "source": []
  }
 ],
 "metadata": {
  "kernelspec": {
   "display_name": "win_venv",
   "language": "python",
   "name": "python3"
  },
  "language_info": {
   "codemirror_mode": {
    "name": "ipython",
    "version": 3
   },
   "file_extension": ".py",
   "mimetype": "text/x-python",
   "name": "python",
   "nbconvert_exporter": "python",
   "pygments_lexer": "ipython3",
   "version": "3.10.10"
  }
 },
 "nbformat": 4,
 "nbformat_minor": 2
}
