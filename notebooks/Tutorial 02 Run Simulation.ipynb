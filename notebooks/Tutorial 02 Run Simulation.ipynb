{
 "cells": [
  {
   "cell_type": "markdown",
   "id": "0a1aefb4",
   "metadata": {},
   "source": [
    "#  Tutorial 02 – Running a Basic Simulation\n",
    "\n",
    "This tutorial walks through running a basic Pywr-DRB simulation. You’ll create a model configuration file in JSON format using `ModelBuilder` and run a simulation using `pywrdrb` that saves the output to a standardized HDF5 file.\n",
    "\n",
    "This is a great place to start if you're new to the Pywr-DRB model.\n"
   ]
  },
  {
   "cell_type": "markdown",
   "id": "ab8d6c5e",
   "metadata": {},
   "source": [
    "## Model Overview\n",
    "\n",
    "Pywr-DRB is a river basin simulation model built on top of [Pywr](https://pywr.github.io/pywr/), a flexible node-link water resource modeling framework. In Pywr, the system is represented as a network of nodes (e.g., reservoirs, rivers, demands) and links (e.g., flow pathways), where each node has operational rules and constraints.\n",
    "\n",
    "The Pywr-DRB implementation represents the full Delaware River Basin, including:\n",
    "- 18 major reservoirs (e.g., Cannonsville, Pepacton, Blue Marsh)\n",
    "- Streamflow routing between sub-basins\n",
    "- Urban, agricultural, and ecological demands\n",
    "- Operating rules based on institutional agreements and historical patterns\n",
    "\n",
    "Simulations are conducted at a daily time step, using input inflow datasets to drive flow dynamics through the network. In this tutorial, you’ll create a model configuration file that encodes this structure, along with the simulation period and hydrologic forcing data.\n",
    "\n",
    "The remaining tutorials will walk through running, analyzing, and customizing these simulations.\n"
   ]
  },
  {
   "cell_type": "markdown",
   "id": "880ecd4d",
   "metadata": {},
   "source": [
    "## Step 1 – Initialize Model with `ModelBuilder`\n",
    "\n",
    "We begin by creating a model configuration file (`model.json`) using `pywrdrb.ModelBuilder`. This configuration defines the model’s node-link structure and key metadata, including simulation dates, the inflow dataset, node relationships, and operational constraints.\n",
    "\n",
    "`ModelBuilder` requires three arguments:\n",
    "- `inflow_type`: the selected inflow dataset  \n",
    "- `start_date`: simulation start date in `\"YYYY-MM-DD\"` format  \n",
    "- `end_date`: simulation end date in `\"YYYY-MM-DD\"` format  \n",
    "\n",
    "An optional `options` dictionary is available for advanced usage (see advanced tutorials or the API documentation for details).\n",
    "\n",
    "---\n",
    "\n",
    "### Supported Inflow Datasets and Simulation Periods\n",
    "\n",
    "Pywr-DRB supports a range of inflow datasets representing historic, modeled, and scenario-based hydrologic conditions:\n",
    "\n",
    "| Inflow Dataset                      | Start Date   | End Date     | Notes                                          |\n",
    "|------------------------------------|--------------|--------------|------------------------------------------------|\n",
    "| `nhmv10`                            | 1983-10-01   | 2016-12-31   | National Hydrologic Model v1.0 (raw)           |\n",
    "| `nhmv10_withObsScaled`             | 1983-10-01   | 2016-12-31   | NHM v1.0 scaled with observed flows            |\n",
    "| `nwmv21`                            | 1983-10-01   | 2016-12-31   | National Water Model v2.1 (raw)                |\n",
    "| `nwmv21_withObsScaled`             | 1983-10-01   | 2016-12-31   | NWM v2.1 scaled with observed flows            |\n",
    "| `pub_nhmv10_BC_withObsScaled`      | 1945-01-01   | 2023-12-31   | Median Reconstruction with bias correction     |\n",
    "| `wrf1960s_calib_nlcd2016`          | 1959-10-01   | 1969-12-31   | WRF 1960s climate scenario                     |\n",
    "| `wrf2050s_calib_nlcd2016`          | 1959-10-01   | 1969-12-31   | WRF 2050s future scenario                      |\n",
    "| `wrfaorc_calib_nlcd2016`           | 1979-10-01   | 2021-12-31   | WRF historical simulation (AORC forcing)       |\n",
    "| `wrfaorc_withObsScaled`            | 1983-10-01   | 2021-12-31   | AORC-scaled with observed flows                |\n",
    "\n",
    "These inflow options enable users to test a range of hydrologic conditions, from observed historical records to future climate projections.\n",
    "\n",
    "> ⚠ Always confirm that the selected `start_date` and `end_date` fall within the supported range for your chosen dataset.\n",
    "\n",
    "We will use the `'nhmv10_withObsScaled'` dataset in the example that follows.\n"
   ]
  },
  {
   "cell_type": "code",
   "execution_count": 1,
   "id": "4a68514f",
   "metadata": {},
   "outputs": [],
   "source": [
    "import pywrdrb\n",
    "\n",
    "mb = pywrdrb.ModelBuilder(\n",
    "    inflow_type='nhmv10_withObsScaled',\n",
    "    start_date=\"1983-10-01\",\n",
    "    end_date=\"2016-12-31\"\n",
    ")\n",
    "mb.make_model()\n",
    "\n",
    "model_filename = \"./model.json\"\n",
    "mb.write_model(model_filename)\n"
   ]
  },
  {
   "cell_type": "markdown",
   "id": "1218e190",
   "metadata": {},
   "source": [
    "## Step 2 – Load the Model\n",
    "\n",
    "Now that the model JSON file has been created, we can load it into memory using `pywrdrb.Model.load()`. This initializes all the Pywr nodes, parameters, and connections defined in the JSON file.\n"
   ]
  },
  {
   "cell_type": "code",
   "execution_count": null,
   "id": "e1c46515",
   "metadata": {},
   "outputs": [],
   "source": [
    "model = pywrdrb.Model.load(model_filename)"
   ]
  },
  {
   "cell_type": "markdown",
   "id": "318d2bbc",
   "metadata": {},
   "source": [
    "## Step 3 – Attach an Output Recorder\n",
    "\n",
    "Next, we attach an `pywrdrb.OutputRecorder` to the model. This customized recorder tracks key outputs during the simulation, stores them in memory, and writes them to an `.hdf5` file once the simulation is completed.\n",
    "\n",
    "The output file will store time series data like reservoir storage, streamflow, releases, and more. Please check `OutputRecorder` options for details.\n",
    "\n",
    "### Optional Arguments for OutputRecorder\n",
    "\n",
    "The `pywrdrb.OutputRecorder` records and saves model simulation data to an HDF5 file.  \n",
    "It wraps the base `pywr.Recorder` class and is optimized for efficiency while tracking all key model variables.\n",
    "\n",
    "Key arguments:\n",
    "- `model` → the `pywrdrb.Model` instance to record from (required)\n",
    "- `output_filename` → name of the output HDF5 file (required)\n",
    "- `nodes` → optional list of `pywr.core.Node` objects to record (if `None`, all named nodes are recorded)\n",
    "- `parameters` → optional list of `pywr.core.Parameter` objects to record (if `None`, all named parameters are recorded)\n"
   ]
  },
  {
   "cell_type": "code",
   "execution_count": null,
   "id": "85ea0dbc",
   "metadata": {},
   "outputs": [],
   "source": [
    "output_filename = \"./pywrdrb_output.hdf5\"\n",
    "recorder = pywrdrb.OutputRecorder(model, output_filename)"
   ]
  },
  {
   "cell_type": "markdown",
   "id": "f4329ac3",
   "metadata": {},
   "source": [
    "## Step 4 – Run the Simulation\n",
    "\n",
    "Now we run the model. This may take a few seconds depending on your machine. The simulation uses the configuration and input data to simulate reservoir operations and streamflows across the Delaware River Basin.\n"
   ]
  },
  {
   "cell_type": "code",
   "execution_count": null,
   "id": "e71b5199",
   "metadata": {},
   "outputs": [
    {
     "name": "stderr",
     "output_type": "stream",
     "text": [
      "c:\\Users\\ms3654\\Desktop\\Research\\Delaware\\.venv\\Lib\\site-packages\\pywr\\dataframe_tools.py:127: FutureWarning: Resampling with a PeriodIndex is deprecated. Cast index to DatetimeIndex before resampling instead.\n",
      "  new_df = new_df.resample(target_index.freq).agg(resample_func)\n",
      "C:\\Users\\ms3654\\AppData\\Local\\Temp\\ipykernel_14636\\1470591929.py:1: DeprecationWarning: Conversion of an array with ndim > 0 to a scalar is deprecated, and will error in future. Ensure you extract a single element from your array before performing this operation. (Deprecated NumPy 1.25.)\n",
      "  stats = model.run()\n"
     ]
    }
   ],
   "source": [
    "stats = model.run()"
   ]
  },
  {
   "cell_type": "markdown",
   "id": "050a8579",
   "metadata": {},
   "source": [
    "## Step 5 – Confirm the Output File Was Created\n",
    "\n",
    "After running the simulation, check that the HDF5 output file was successfully created. This file will be used in the next tutorial to analyze results.\n"
   ]
  },
  {
   "cell_type": "code",
   "execution_count": null,
   "id": "0f516960",
   "metadata": {},
   "outputs": [
    {
     "name": "stdout",
     "output_type": "stream",
     "text": [
      " Simulation completed and output file saved: ./pywrdrb_output.hdf5\n"
     ]
    }
   ],
   "source": [
    "import os\n",
    "\n",
    "assert os.path.exists(output_filename), \"Simulation output not found.\"\n",
    "print(\" Simulation completed and output file saved:\", output_filename)"
   ]
  }
 ],
 "metadata": {
  "kernelspec": {
   "display_name": ".venv",
   "language": "python",
   "name": "python3"
  },
  "language_info": {
   "codemirror_mode": {
    "name": "ipython",
    "version": 3
   },
   "file_extension": ".py",
   "mimetype": "text/x-python",
   "name": "python",
   "nbconvert_exporter": "python",
   "pygments_lexer": "ipython3",
   "version": "3.12.10"
  }
 },
 "nbformat": 4,
 "nbformat_minor": 5
}
