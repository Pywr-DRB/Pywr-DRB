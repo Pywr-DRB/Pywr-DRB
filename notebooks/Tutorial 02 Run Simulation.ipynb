{
 "cells": [
  {
   "cell_type": "markdown",
   "id": "0a1aefb4",
   "metadata": {},
   "source": [
    "#  Tutorial 01 – Running a Basic Simulation\n",
    "\n",
    "This tutorial walks through running a basic Pywr-DRB simulation using a YAML configuration file and `sample_run.py`. You’ll create a model JSON using `ModelBuilder`, run a simulation using `pywrdrb.Model`, and save the output to a standardized HDF5 file.\n",
    "\n",
    "This is a great place to start if you're new to the Pywr-DRB model.\n"
   ]
  },
  {
   "cell_type": "markdown",
   "id": "880ecd4d",
   "metadata": {},
   "source": [
    "## Step 1 – Initialize Model with `ModelBuilder`\n",
    "\n",
    "We start by creating a model configuration (`model.json`) using `pywrdrb.ModelBuilder`. This file defines the structure of the model: start and end dates, inflow dataset, node relationships, and operational constraints.\n",
    "\n",
    "### Built-in Inflow Type Options\n",
    "\n",
    "Pywr-DRB supports a range of inflow datasets that represent historic, modeled, and hybrid hydrologic conditions:\n",
    "\n",
    "- `'nhmv10'` → National Hydrologic Model v1.0 (raw)\n",
    "- `'nhmv10_withObsScaled'` → NHM v1.0 scaled with observed flows\n",
    "- `'nwmv21'` → National Water Model v2.1 (raw)\n",
    "- `'nwmv21_withObsScaled'` → NWM v2.1 scaled with observed flows\n",
    "- `'pub_nhmv10_BC_withObsScaled'` → Public reconstruction of NHM v1.0 with bias correction and observed scaling\n",
    "- `'wrf1960s_calib_nlcd2016'` → WRF downscaled inflows calibrated to 1960s climate with NLCD 2016 land cover\n",
    "- `'wrf2050s_calib_nlcd2016'` → WRF downscaled inflows calibrated to 2050s climate with NLCD 2016 land cover\n",
    "- `'wrfaorc_calib_nlcd2016'` → WRF historical (AORC forcing) calibrated inflows with NLCD 2016\n",
    "- `'wrfaorc_withObsScaled'` → WRF historical AORC inflows scaled with observed flows\n",
    "- `'_scaled_inflows'` → Experimental scaled inflow set\n",
    "- `'_hydro_model_flow_output'` → Experimental hydrologic model output flow set\n",
    "\n",
    "These inflow types allow testing a wide variety of hydrologic scenarios — from historic reconstructions to future climate-driven projections.\n",
    "\n",
    "---\n",
    "\n",
    "### Allowable Simulation Periods\n",
    "\n",
    "Available periods depend on the dataset:\n",
    "- `'nhmv10'`, `'nhmv10_withObsScaled'`: ~1983–2016\n",
    "- `'nwmv21'`, `'nwmv21_withObsScaled'`: ~1983–2020\n",
    "- `'pub_nhmv10_BC_withObsScaled'`: ~1945–2023\n",
    "- `'wrf1960s'`, `'wrf2050s'`, `'wrfaorc'`: modeled periods specific to scenario (check dataset metadata)\n",
    "\n",
    "⚠ Always check the dataset metadata or file coverage before setting `start_date` and `end_date` in your simulation.\n",
    "\n",
    "\n",
    "We will use the `'nhmv10_withObsScaled'` inflow dataset as an example.\n",
    "\n"
   ]
  },
  {
   "cell_type": "code",
   "execution_count": 8,
   "id": "4a68514f",
   "metadata": {},
   "outputs": [],
   "source": [
    "import pywrdrb\n",
    "\n",
    "mb = pywrdrb.ModelBuilder(\n",
    "    inflow_type='nhmv10_withObsScaled',\n",
    "    start_date=\"1983-10-01\",\n",
    "    end_date=\"2016-12-31\"\n",
    ")\n",
    "mb.make_model()\n",
    "\n",
    "model_filename = \"./model.json\"\n",
    "mb.write_model(model_filename)\n"
   ]
  },
  {
   "cell_type": "markdown",
   "id": "1218e190",
   "metadata": {},
   "source": [
    "## Step 2 – Load the Model\n",
    "\n",
    "Now that the model JSON file has been created, we can load it into memory using `pywrdrb.Model.load()`. This initializes all the Pywr nodes, parameters, and connections defined in the JSON file.\n"
   ]
  },
  {
   "cell_type": "code",
   "execution_count": 2,
   "id": "e1c46515",
   "metadata": {},
   "outputs": [],
   "source": [
    "model = pywrdrb.Model.load(model_filename)\n"
   ]
  },
  {
   "cell_type": "markdown",
   "id": "318d2bbc",
   "metadata": {},
   "source": [
    "## Step 3 – Attach an Output Recorder\n",
    "\n",
    "Next, we attach an `OutputRecorder` to the model. This customized recorder tracks key outputs during the simulation and writes them to an `.hdf5` file.\n",
    "\n",
    "The output file will store time series data like reservoir storage, streamflow, and releases.\n",
    "\n",
    "### Optional Arguments for OutputRecorder\n",
    "\n",
    "The `pywrdrb.OutputRecorder` records and saves model simulation data to an HDF5 file.  \n",
    "It wraps the base `pywr.Recorder` class and is optimized for efficiency while tracking all key model variables.\n",
    "\n",
    "Key arguments:\n",
    "- `model` → the `pywrdrb.Model` instance to record from (required)\n",
    "- `output_filename` → name of the output HDF5 file (required)\n",
    "- `nodes` → optional list of `pywr.core.Node` objects to record (if `None`, all named nodes are recorded)\n",
    "- `parameters` → optional list of `pywr.core.Parameter` objects to record (if `None`, all named parameters are recorded)\n"
   ]
  },
  {
   "cell_type": "code",
   "execution_count": 3,
   "id": "85ea0dbc",
   "metadata": {},
   "outputs": [],
   "source": [
    "output_filename = \"./pywrdrb_output.hdf5\"\n",
    "recorder = pywrdrb.OutputRecorder(model, output_filename)\n"
   ]
  },
  {
   "cell_type": "markdown",
   "id": "f4329ac3",
   "metadata": {},
   "source": [
    "## Step 4 – Run the Simulation\n",
    "\n",
    "Now we run the model. This may take a few seconds depending on your machine. The simulation uses the configuration and input data to simulate reservoir operations and streamflows across the Delaware River Basin.\n"
   ]
  },
  {
   "cell_type": "code",
   "execution_count": 4,
   "id": "e71b5199",
   "metadata": {},
   "outputs": [
    {
     "name": "stderr",
     "output_type": "stream",
     "text": [
      "c:\\Users\\ms3654\\Desktop\\Research\\Delaware\\DRB_development\\venv\\Lib\\site-packages\\pywr\\dataframe_tools.py:127: FutureWarning: Resampling with a PeriodIndex is deprecated. Cast index to DatetimeIndex before resampling instead.\n",
      "  new_df = new_df.resample(target_index.freq).agg(resample_func)\n",
      "C:\\Users\\ms3654\\AppData\\Local\\Temp\\ipykernel_6956\\1470591929.py:1: DeprecationWarning: Conversion of an array with ndim > 0 to a scalar is deprecated, and will error in future. Ensure you extract a single element from your array before performing this operation. (Deprecated NumPy 1.25.)\n",
      "  stats = model.run()\n"
     ]
    }
   ],
   "source": [
    "stats = model.run()\n"
   ]
  },
  {
   "cell_type": "markdown",
   "id": "050a8579",
   "metadata": {},
   "source": [
    "## Step 5 – Confirm the Output File Was Created\n",
    "\n",
    "After running the simulation, check that the HDF5 output file was successfully created. This file will be used in the next tutorial to analyze results.\n"
   ]
  },
  {
   "cell_type": "code",
   "execution_count": 7,
   "id": "0f516960",
   "metadata": {},
   "outputs": [
    {
     "name": "stdout",
     "output_type": "stream",
     "text": [
      " Simulation completed and output file saved: ./pywrdrb_output.hdf5\n"
     ]
    }
   ],
   "source": [
    "import os\n",
    "\n",
    "assert os.path.exists(output_filename), \"Simulation output not found.\"\n",
    "print(\" Simulation completed and output file saved:\", output_filename)\n"
   ]
  }
 ],
 "metadata": {
  "kernelspec": {
   "display_name": "Python (pywrdrb)",
   "language": "python",
   "name": "pywrdrb_env"
  },
  "language_info": {
   "codemirror_mode": {
    "name": "ipython",
    "version": 3
   },
   "file_extension": ".py",
   "mimetype": "text/x-python",
   "name": "python",
   "nbconvert_exporter": "python",
   "pygments_lexer": "ipython3",
   "version": "3.12.10"
  }
 },
 "nbformat": 4,
 "nbformat_minor": 5
}
