{
 "cells": [
  {
   "cell_type": "markdown",
   "metadata": {},
   "source": [
    "This notebook goes through the process of replicating all the results from of Hamilton, A.L., Amestoy, T.J., & P.M. Reed. (2024). Pywr-DRB: An open-source Python model for water availability and drought risk assessment in the Delaware River Basin. (Under Review).\n",
    "\n",
    "Before starting this replication effort, it is recommended to have read the work presented in Hamilton, Amestoy, & Reed (Under Review). Also, it might help to have access to the [Pywr-DRB model API documentation](https://pywr-drb.github.io/Pywr-DRB/api/api.html) while working with the model (currently unavailable...). \n",
    "\n",
    "\n",
    "To run the model diagnostic experiment from Hamilton et al. (2024) paper listed above, simply run the following script from the command line:\n",
    "\n",
    "```bash\n",
    "sh pywrdrb_run_diagnostics_paper.sh\n",
    "```\n",
    "\n",
    "This script has three main parts:\n",
    "\n",
    "1. Run ``pywrdrb/prep_input_data.py``: this script runs various data preparation operations to prepare inputs needed by Pywr-DRB.\n",
    "    a. Note: Some of the data used by prep_input_data.py is harvested and organized in a [separate Pywr-DRB repository](https://github.com/Pywr-DRB/Input-Data-Retrieval), as described in [this training notebook](https://github.com/Pywr-DRB/Pywr-DRB/blob/master/notebooks/Tutorial%2002%20Prepare%20Input%20Data.ipynb).\n",
    "2. Run ``pywrdrb/run_historic_simulation.py`` for each of four inflow datasets: (NHM v1.0, NWM v2.1, hybrid NHM v1.0, hybrid NWM v2.1). This is the main simulation run.\n",
    "    b. Note: More details on the simulation model can be found in Hamilton et al. (2024) as well as [this training notebook](https://github.com/Pywr-DRB/Pywr-DRB/blob/master/notebooks/Tutorial%2001%20Introduction%20to%20PywrDRB.ipynb)\n",
    "3. Run ``pywrdrb/make_figs_diagnostics_paper.py``: this script runs postprocessing and creates all figures for Hamilton et al. (2024).\n",
    "\n",
    "The `pywrdrb_run_diagnostics_paper.sh` is design to conveniently execute all of these processes.  The script looks like this:\n",
    "\n",
    "```sh\n",
    "### prep inputs from raw data\n",
    "echo Prepping data...\n",
    "time python3 -W ignore ./pywrdrb/prep_input_data.py\n",
    "\n",
    "### run single-scenario simulations with different data sources\n",
    "for inflow_type in nhmv10_withObsScaled nwmv21_withObsScaled nhmv10 nwmv21\n",
    "do\n",
    "\techo Running simulation with $inflow_type ...\n",
    "\ttime python3 -W ignore ./pywrdrb/run_historic_simulation.py $inflow_type\n",
    "done\n",
    "\n",
    "### analyze results, make figures\n",
    "echo Analyzing results...\n",
    "time python3 -W ignore ./pywrdrb/make_figs_diagnostics_paper.py\n",
    "```\n",
    "\n",
    "You can also run these scripts independently.  The code cells below also will perform the replication. \n",
    "\n",
    ">**NOTE:** The replication script is design to run using Pywr-DRB v1.01, which is version corresponding to Hamilton, Amestoy and Reed (In Review).  As this model develops, this replication workflow may or may not depreciate. If you want to get the same replication results as the publication, then be sure to see version 1.01.\n",
    "\n",
    "***\n"
   ]
  }
 ],
 "metadata": {
  "kernelspec": {
   "display_name": "win_venv",
   "language": "python",
   "name": "python3"
  },
  "language_info": {
   "codemirror_mode": {
    "name": "ipython",
    "version": 3
   },
   "file_extension": ".py",
   "mimetype": "text/x-python",
   "name": "python",
   "nbconvert_exporter": "python",
   "pygments_lexer": "ipython3",
   "version": "3.10.10"
  }
 },
 "nbformat": 4,
 "nbformat_minor": 2
}
