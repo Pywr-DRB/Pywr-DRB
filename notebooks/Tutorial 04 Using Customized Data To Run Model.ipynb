{
 "cells": [
  {
   "cell_type": "markdown",
   "metadata": {},
   "source": [
    "# Tutorial 04 – Using Customized Data to Run Pywr-DRB\n",
    "\n",
    "In addition to built-in inflow and diversion datasets, Pywr-DRB allows users to supply their own customized input data. This tutorial explains how to integrate external inflow or diversion files using the model’s path configuration system.\n",
    "\n",
    "You will learn:\n",
    "\n",
    "- How dataset paths are managed in Pywr-DRB using the `PathNavigator`  \n",
    "- How to register and use custom folders for flow and diversion data  \n",
    "- What files must be present for a valid custom input folder\n"
   ]
  },
  {
   "cell_type": "markdown",
   "metadata": {},
   "source": [
    "## Step 1 – Understanding the Path Structure\n",
    "\n",
    "Pywr-DRB uses a centralized [`PathNavigator`](https://github.com/philip928lin/PathNavigator) object to manage file paths for input datasets, including flows, diversions, observations, and operational constants.\n",
    "\n",
    "The `PathNavigator` stores all dataset directories in a structured configuration that Pywr-DRB references when building or running a model.\n",
    "\n",
    "You can inspect the current path configuration using:"
   ]
  },
  {
   "cell_type": "code",
   "execution_count": null,
   "metadata": {},
   "outputs": [],
   "source": [
    "import pywrdrb\n",
    "from pprint import pprint\n",
    "\n",
    "pn_config = pywrdrb.get_pn_config()\n",
    "pprint(pn_config)"
   ]
  },
  {
   "cell_type": "markdown",
   "metadata": {},
   "source": [
    "The printed dictionary shows the current registered dataset paths. Each entry uses a key like `flows/nhmv10` or `diversions/nwmv21` to identify the type and name of the dataset, and maps it to a corresponding local directory.\n",
    "\n",
    "From this configuration, you can see that Pywr-DRB includes several built-in inflow and diversion datasets:\n",
    "\n",
    "- Inflow types: `nhmv10`, `nhmv10_withObsScaled`, `nwmv21`, `nwmv21_withObsScaled`, `wrf1960s_calib_nlcd2016`, `wrf2050s_calib_nlcd2016`, and `wrfaorc_calib_nlcd2016`  \n",
    "- Diversion types: matching diversion data folders exist for each of the inflow types listed above\n",
    "\n",
    "Each dataset folder is stored under a prefix (`flows/` or `diversions/`) to distinguish the type of input data. These paths are referenced during model building when you specify `inflow_type` and `diversion_type`.\n",
    "\n",
    "---\n",
    "\n",
    "## Step 2 – Registering a Custom Dataset\n",
    "\n",
    "If you want to use your own inflow data stored in a folder like `C:/my_data`, you can add it to the path configuration and register it with a custom name (e.g., `\"my_data\"`):\n"
   ]
  },
  {
   "cell_type": "code",
   "execution_count": null,
   "metadata": {},
   "outputs": [],
   "source": [
    "pn_config = pywrdrb.get_pn_config()\n",
    "pn_config[\"flows/my_data\"] = \"C:/my_data\"\n",
    "pywrdrb.load_pn_config(pn_config)"
   ]
  },
  {
   "cell_type": "markdown",
   "metadata": {},
   "source": [
    "Once registered, you can build the model using your custom data by passing \"my_data\" as the inflow_type:"
   ]
  },
  {
   "cell_type": "code",
   "execution_count": null,
   "metadata": {},
   "outputs": [],
   "source": [
    "mb = pywrdrb.ModelBuilder(\n",
    "    inflow_type=\"my_data\",\n",
    "    diversion_type=\"nhmv10\",  \n",
    "    start_date=\"1983-10-01\",\n",
    "    end_date=\"2016-12-31\"\n",
    ")\n",
    "mb.make_model()"
   ]
  },
  {
   "cell_type": "markdown",
   "metadata": {},
   "source": [
    "If the dataset is not properly registered or does not include the required files, ModelBuilder will raise an error."
   ]
  },
  {
   "cell_type": "markdown",
   "metadata": {},
   "source": [
    "> **Note:**  \n",
    "> At present, all simulations use the same extrapolated diversion data.  \n",
    "> The `diversion_type` option is not yet active and should be omitted from the `ModelBuilder` call.\n"
   ]
  },
  {
   "cell_type": "markdown",
   "metadata": {},
   "source": [
    "## Step 3 – Required Files for Custom Inflow Data\n",
    "\n",
    "Your custom inflow folder must include the following **three files**:\n",
    "\n",
    "- `catchment_inflow_mgd.csv`  \n",
    "- `gage_flow_mgd.csv`  \n",
    "- `predicted_inflows_mgd.csv`\n",
    "\n",
    "Each file should:\n",
    "\n",
    "- Be a CSV file with a `datetime` column\n",
    "- Include columns for relevant nodes or locations (e.g., reservoirs or catchments)\n",
    "- Use consistent formatting and overlapping date ranges across all files\n",
    "\n",
    "To preview the expected format, you can inspect the structure of the built-in `nhmv10` inflow folder:\n"
   ]
  },
  {
   "cell_type": "code",
   "execution_count": null,
   "metadata": {},
   "outputs": [],
   "source": [
    "import pandas as pd\n",
    "\n",
    "pn = pywrdrb.get_pn_object()\n",
    "files = pn.flows.nhmv10.list()\n",
    "\n",
    "print(\"Required files:\", files)\n",
    "for file in files:\n",
    "    df = pd.read_csv(pn.flows.nhmv10.get(file))\n",
    "    print(f\"\\nPreview: {file}\")\n",
    "    print(df.iloc[:5, :5])  # first 5 rows and 5 columns"
   ]
  },
  {
   "cell_type": "markdown",
   "metadata": {},
   "source": [
    "Make sure your files use the same column names and structure so they can be correctly interpreted by the model."
   ]
  },
  {
   "cell_type": "markdown",
   "metadata": {},
   "source": [
    "## Datasets you need to have in your customize \"my_folder\"\n",
    "\n"
   ]
  },
  {
   "cell_type": "code",
   "execution_count": null,
   "metadata": {},
   "outputs": [],
   "source": [
    "print(\"For flow type folder, you need to have the following files: \\n\")\n",
    "pn = pywrdrb.get_pn_object()\n",
    "files = pn.flows.nhmv10.list()\n",
    "print(f\"File needed: {files}\\n\")  \n",
    "for file in files:\n",
    "    df = pd.read_csv(pn.flows.nhmv10.get(file))\n",
    "    print(f\"File: {file}\")\n",
    "    print(df.iloc[:5, :5]) # print first 5 rows and 5 columns\n",
    "    print(\"\\n\")\n",
    "#df.head()"
   ]
  },
  {
   "cell_type": "markdown",
   "metadata": {},
   "source": [
    "## More About the Global PathNavigator Object Used in PywrDRB\n",
    "\n",
    "We can get the global `PathNavigator` object used in PywrDRB by running: `pn = pywrdrb.get_pn_object()`\n",
    "\n",
    "This `pn` object contains all the directory and path information, allowing you to locate specific files used in PywrDRB within the file explorer.\n",
    "\n",
    "More `pn` operations can be found [here](https://github.com/philip928lin/PathNavigator). However, users should ONLY use pn to explore file and folder locations. It is not designed for modifications unless you fully understand what you are doing."
   ]
  },
  {
   "cell_type": "code",
   "execution_count": null,
   "metadata": {},
   "outputs": [],
   "source": [
    "pn = pywrdrb.get_pn_object()\n",
    "print(f\"The root directory of the pywrdrb: {pn.get()}\")"
   ]
  },
  {
   "cell_type": "markdown",
   "metadata": {},
   "source": [
    "You can also scan and print the folder structure:"
   ]
  },
  {
   "cell_type": "code",
   "execution_count": null,
   "metadata": {},
   "outputs": [],
   "source": [
    "pn.scan(max_depth=2)  # scan the directory structure up to 2 levels deep\n",
    "pn.tree()"
   ]
  }
 ],
 "metadata": {
  "kernelspec": {
   "display_name": "Python 3",
   "language": "python",
   "name": "python3"
  },
  "language_info": {
   "codemirror_mode": {
    "name": "ipython",
    "version": 3
   },
   "file_extension": ".py",
   "mimetype": "text/x-python",
   "name": "python",
   "nbconvert_exporter": "python",
   "pygments_lexer": "ipython3",
   "version": "3.9.6"
  }
 },
 "nbformat": 4,
 "nbformat_minor": 2
}
