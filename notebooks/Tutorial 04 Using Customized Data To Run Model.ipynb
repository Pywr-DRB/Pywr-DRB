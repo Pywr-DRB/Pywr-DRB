{
 "cells": [
  {
   "cell_type": "markdown",
   "metadata": {},
   "source": [
    "# Using Customized Data To Run PywrDRB\n",
    "\n",
    "PywrDRB provides multiple `inflow_type` and `diversion_type` options for users to select directly during the model-building process. However, sometimes users may want to use their own customized data to run the model.\n",
    "\n",
    "In this tutorial, we will walk you through:  \n",
    "1) The path structure adopted in PywrDRB.  \n",
    "2) How to use your own flow and diversion data to run the model.\n"
   ]
  },
  {
   "cell_type": "markdown",
   "metadata": {},
   "source": [
    "## Path Structure in PywrDRB\n",
    "\n",
    "In PywrDRB, we use a global instance of the [PathNavigator](https://github.com/philip928lin/PathNavigator) object to manage the paths associated with different datasets used in PywrDRB.\n",
    "\n",
    "To get the customizable path configuration, you can do:\n"
   ]
  },
  {
   "cell_type": "code",
   "execution_count": 2,
   "metadata": {},
   "outputs": [
    {
     "name": "stdout",
     "output_type": "stream",
     "text": [
      "{'flows/nhmv10': 'C:\\\\Users\\\\CL\\\\Documents\\\\GitHub\\\\Pywr-DRB\\\\src\\\\pywrdrb\\\\data\\\\flows\\\\nhmv10',\n",
      " 'flows/nhmv10_withObsScaled': 'C:\\\\Users\\\\CL\\\\Documents\\\\GitHub\\\\Pywr-DRB\\\\src\\\\pywrdrb\\\\data\\\\flows\\\\nhmv10_withObsScaled',\n",
      " 'flows/nwmv21': 'C:\\\\Users\\\\CL\\\\Documents\\\\GitHub\\\\Pywr-DRB\\\\src\\\\pywrdrb\\\\data\\\\flows\\\\nwmv21',\n",
      " 'flows/nwmv21_withObsScaled': 'C:\\\\Users\\\\CL\\\\Documents\\\\GitHub\\\\Pywr-DRB\\\\src\\\\pywrdrb\\\\data\\\\flows\\\\nwmv21_withObsScaled',\n",
      " 'flows/pub_nhmv10_BC_withObsScaled': 'C:\\\\Users\\\\CL\\\\Documents\\\\GitHub\\\\Pywr-DRB\\\\src\\\\pywrdrb\\\\data\\\\flows\\\\pub_nhmv10_BC_withObsScaled',\n",
      " 'flows/wrf1960s_calib_nlcd2016': 'C:\\\\Users\\\\CL\\\\Documents\\\\GitHub\\\\Pywr-DRB\\\\src\\\\pywrdrb\\\\data\\\\flows\\\\wrf1960s_calib_nlcd2016',\n",
      " 'flows/wrf2050s_calib_nlcd2016': 'C:\\\\Users\\\\CL\\\\Documents\\\\GitHub\\\\Pywr-DRB\\\\src\\\\pywrdrb\\\\data\\\\flows\\\\wrf2050s_calib_nlcd2016',\n",
      " 'flows/wrfaorc_calib_nlcd2016': 'C:\\\\Users\\\\CL\\\\Documents\\\\GitHub\\\\Pywr-DRB\\\\src\\\\pywrdrb\\\\data\\\\flows\\\\wrfaorc_calib_nlcd2016',\n",
      " 'flows/wrfaorc_withObsScaled': 'C:\\\\Users\\\\CL\\\\Documents\\\\GitHub\\\\Pywr-DRB\\\\src\\\\pywrdrb\\\\data\\\\flows\\\\wrfaorc_withObsScaled'}\n"
     ]
    }
   ],
   "source": [
    "import pywrdrb\n",
    "from pprint import pprint\n",
    "\n",
    "pn_config = pywrdrb.get_pn_config()\n",
    "pprint(pn_config)"
   ]
  },
  {
   "cell_type": "markdown",
   "metadata": {},
   "source": [
    "From here, you can see that we provide five inflow types: `nhmv10`, `nhmv10_withObsScaled`, `nwmv21`, `nwmv21_withObsScaled`, `wrf1960s_calib_nlcd2016`, `wrf2050s_calib_nlcd2016`, and `wrfaorc_calib_nlcd2016`, along with the corresponding five diversion types: `nhmv10`, `nhmv10_withObsScaled`, `nwmv21`, `nwmv21_withObsScaled`, `wrf1960s_calib_nlcd2016`, `wrf2050s_calib_nlcd2016`, and `wrfaorc_calib_nlcd2016`. \n",
    "\n",
    "The directories of the corresponding folders are stored in a dictionary, where the keys have the prefix `flows/` and `diversions/` to distinguish between flow data and diversion data.\n",
    "\n",
    "So, if you want to use your own data to run the simulation, you will need to add your folder directory to `pn_config` and load it into `pywrdrb` before building and running the model. \n",
    "\n",
    "Let me show you how. Assuming you want to use your own flow datasets (we will discuss the required datasets soon) stored in an external folder `C:/my_data`, you need to add `{\"flows/my_data\": \"C:/my_data\"}` to `pn_config`. Then, you can use `my_data` as the flow type when using the `modelbuilder`.\n"
   ]
  },
  {
   "cell_type": "code",
   "execution_count": 3,
   "metadata": {},
   "outputs": [
    {
     "data": {
      "text/plain": [
       "'\\nmb = pywrdrb.ModelBuilder(\\n    inflow_type=\\'my_data\\', \\n    diversion_type=\\'nhmv10\\',\\n    start_date=\"1983-10-01\",\\n    end_date=\"1985-12-31\"\\n    )\\n'"
      ]
     },
     "execution_count": 3,
     "metadata": {},
     "output_type": "execute_result"
    }
   ],
   "source": [
    "# Before adding the custom config if we try to use the custom inflow type, it will raise an error\n",
    "\n",
    "r\"\"\"\n",
    "mb = pywrdrb.ModelBuilder(\n",
    "    inflow_type='my_data', \n",
    "    diversion_type='nhmv10',\n",
    "    start_date=\"1983-10-01\",\n",
    "    end_date=\"1985-12-31\"\n",
    "    )\n",
    "\"\"\"\n",
    "# Make a model (you are expected to see error here if you uncomment the line below)\n",
    "# mb.make_model()"
   ]
  },
  {
   "cell_type": "code",
   "execution_count": 4,
   "metadata": {},
   "outputs": [
    {
     "name": "stdout",
     "output_type": "stream",
     "text": [
      "You secussessfully created a model with custom inflow type\n"
     ]
    }
   ],
   "source": [
    "# For demonstration purpose, let me assume my_data folder has the same directory of \n",
    "# nhmv10 flow type (you will use your actual directory to the folder)\n",
    "pn_config = pywrdrb.get_pn_config()\n",
    "pn_config[\"flows/my_data\"] = pn_config[\"flows/nhmv10\"]\n",
    "\n",
    "pywrdrb.load_pn_config(pn_config)\n",
    "\n",
    "# Now we can use the custom inflow type\n",
    "mb = pywrdrb.ModelBuilder(\n",
    "    inflow_type='my_data', \n",
    "    diversion_type='nhmv10',\n",
    "    start_date=\"1983-10-01\",\n",
    "    end_date=\"1985-12-31\"\n",
    "    )\n",
    "\n",
    "# Make a model (you are expected to see error here)\n",
    "mb.make_model()\n",
    "print(\"You secussessfully created a model with custom inflow type\")"
   ]
  },
  {
   "cell_type": "markdown",
   "metadata": {},
   "source": [
    "## Datasets you need to have in your customize \"my_folder\"\n",
    "\n"
   ]
  },
  {
   "cell_type": "code",
   "execution_count": 5,
   "metadata": {},
   "outputs": [
    {
     "name": "stdout",
     "output_type": "stream",
     "text": [
      "For flow type folder, you need to have the following files: \n",
      "\n",
      "File needed: ['catchment_inflow_mgd.csv', 'gage_flow_mgd.csv', 'predicted_inflows_mgd.csv']\n",
      "\n",
      "File: catchment_inflow_mgd.csv\n",
      "     datetime  cannonsville    pepacton   neversink  wallenpaupack\n",
      "0  1980-10-01    130.379373   89.325193   60.718368      33.438627\n",
      "1  1980-10-02    320.876434  234.425929   58.710650     155.951484\n",
      "2  1980-10-03    384.188487  261.300230   71.301161     196.969214\n",
      "3  1980-10-04    345.220715  265.843778  115.661384     229.965044\n",
      "4  1980-10-05    322.869093  257.040294   71.100223     208.087549\n",
      "\n",
      "\n",
      "File: gage_flow_mgd.csv\n",
      "     datetime  cannonsville    pepacton   neversink  wallenpaupack\n",
      "0  1980-10-01    130.379373   89.325193   60.718368      33.438627\n",
      "1  1980-10-02    320.876434  234.425929   58.710650     155.951484\n",
      "2  1980-10-03    384.188487  261.300230   71.301161     196.969214\n",
      "3  1980-10-04    345.220715  265.843778  115.661384     229.965044\n",
      "4  1980-10-05    322.869093  257.040294   71.100223     208.087549\n",
      "\n",
      "\n",
      "File: predicted_inflows_mgd.csv\n",
      "     datetime  delMontague_lag1_regression_disagg  \\\n",
      "0  1983-10-01                          229.021075   \n",
      "1  1983-10-02                          437.812448   \n",
      "2  1983-10-03                         1091.191061   \n",
      "3  1983-10-04                         1367.417389   \n",
      "4  1983-10-05                         1046.802593   \n",
      "\n",
      "   delMontague_lag2_regression_disagg  delTrenton_lag1_regression_disagg  \\\n",
      "0                          407.304641                          34.783055   \n",
      "1                          846.733954                         330.528839   \n",
      "2                         1608.726450                        1597.578624   \n",
      "3                         1845.161086                        2856.923949   \n",
      "4                         1512.261956                        1945.907752   \n",
      "\n",
      "   delTrenton_lag2_regression_disagg  \n",
      "0                         312.558400  \n",
      "1                         654.031017  \n",
      "2                        2743.665878  \n",
      "3                        4238.030173  \n",
      "4                        2924.458661  \n",
      "\n",
      "\n"
     ]
    }
   ],
   "source": [
    "import pandas as pd\n",
    "print(\"For flow type folder, you need to have the following files: \\n\")\n",
    "pn = pywrdrb.get_pn_object()\n",
    "files = pn.flows.nhmv10.list()\n",
    "print(f\"File needed: {files}\\n\")  \n",
    "for file in files:\n",
    "    df = pd.read_csv(pn.flows.nhmv10.get(file))\n",
    "    print(f\"File: {file}\")\n",
    "    print(df.iloc[:5, :5]) # print first 5 rows and 5 columns\n",
    "    print(\"\\n\")\n",
    "#df.head()"
   ]
  },
  {
   "cell_type": "code",
   "execution_count": 9,
   "metadata": {},
   "outputs": [
    {
     "name": "stdout",
     "output_type": "stream",
     "text": [
      "For diversions type folder, you need to have the following files: \n",
      "\n",
      "File needed: ['diversion_nj_extrapolated_mgd.csv', 'diversion_nyc_extrapolated_mgd.csv', 'predicted_diversions_mgd.csv']\n",
      "\n",
      "File: diversion_nj_extrapolated_mgd.csv\n",
      "     datetime  D_R_Canal\n",
      "0  1945-01-01  86.850770\n",
      "1  1945-01-02  82.101119\n",
      "2  1945-01-03  61.066948\n",
      "3  1945-01-04  48.853558\n",
      "4  1945-01-05  56.995818\n",
      "\n",
      "\n",
      "File: diversion_nyc_extrapolated_mgd.csv\n",
      "     datetime  cannonsville  pepacton  neversink   aggregate\n",
      "0  1945-01-01           NaN       NaN        NaN  473.057090\n",
      "1  1945-01-02           NaN       NaN        NaN  473.057090\n",
      "2  1945-01-03           NaN       NaN        NaN  473.057090\n",
      "3  1945-01-04           NaN       NaN        NaN  759.854566\n",
      "4  1945-01-05           NaN       NaN        NaN  790.545070\n",
      "\n",
      "\n",
      "File: predicted_diversions_mgd.csv\n",
      "     datetime  demand_nj_lag1_regression_disagg  \\\n",
      "0  1945-01-01                         85.923699   \n",
      "1  1945-01-02                         81.227992   \n",
      "2  1945-01-03                         60.430217   \n",
      "3  1945-01-04                         48.351836   \n",
      "4  1945-01-05                         56.404299   \n",
      "\n",
      "   demand_nj_lag2_regression_disagg  demand_nj_lag3_regression_disagg  \\\n",
      "0                         85.803003                         85.734338   \n",
      "1                         81.115331                         81.051235   \n",
      "2                         60.352036                         60.307553   \n",
      "3                         48.292680                         48.259020   \n",
      "4                         56.332553                         56.291731   \n",
      "\n",
      "   demand_nj_lag4_regression_disagg  \n",
      "0                         85.695091  \n",
      "1                         81.014600  \n",
      "2                         60.282127  \n",
      "3                         48.239780  \n",
      "4                         56.268397  \n",
      "\n",
      "\n"
     ]
    }
   ],
   "source": [
    "import pandas as pd\n",
    "print(\"For diversions type folder, you need to have the following files: \\n\")\n",
    "pn = pywrdrb.get_pn_object()\n",
    "files = pn.diversions.list()\n",
    "print(f\"File needed: {files}\\n\")  \n",
    "for file in files:\n",
    "    df = pd.read_csv(pn.diversions.get(file))\n",
    "    print(f\"File: {file}\")\n",
    "    print(df.iloc[:5, :5]) # print first 5 rows and 5 columns\n",
    "    print(\"\\n\")\n",
    "#df.head()"
   ]
  },
  {
   "cell_type": "markdown",
   "metadata": {},
   "source": [
    "## More About the Global PathNavigator Object Used in PywrDRB\n",
    "\n",
    "We can get the global `PathNavigator` object used in PywrDRB by running: `pn = pywrdrb.get_pn_object()`\n",
    "\n",
    "This `pn` object contains all the directory and path information, allowing you to locate specific files used in PywrDRB within the file explorer.\n",
    "\n",
    "More `pn` operations can be found [here](https://github.com/philip928lin/PathNavigator). However, users should ONLY use pn to explore file and folder locations. It is not designed for modifications unless you fully understand what you are doing."
   ]
  },
  {
   "cell_type": "code",
   "execution_count": 10,
   "metadata": {},
   "outputs": [
    {
     "name": "stdout",
     "output_type": "stream",
     "text": [
      "The root directory of the pywrdrb: C:\\Users\\CL\\Documents\\GitHub\\Pywr-DRB\\src\\pywrdrb\\data\n"
     ]
    }
   ],
   "source": [
    "pn = pywrdrb.get_pn_object()\n",
    "print(f\"The root directory of the pywrdrb: {pn.get()}\")"
   ]
  },
  {
   "cell_type": "code",
   "execution_count": 11,
   "metadata": {},
   "outputs": [
    {
     "name": "stdout",
     "output_type": "stream",
     "text": [
      "data\n",
      "├── catchment_withdrawals\n",
      "│   └── sw_avg_wateruse_pywrdrb_catchments_mgd.csv\n",
      "├── diversions\n",
      "│   ├── diversion_nj_extrapolated_mgd.csv\n",
      "│   ├── diversion_nyc_extrapolated_mgd.csv\n",
      "│   └── predicted_diversions_mgd.csv\n",
      "├── flows\n",
      "│   ├── nhmv10\n",
      "│   ├── nhmv10_withObsScaled\n",
      "│   ├── nwmv21\n",
      "│   ├── nwmv21_withObsScaled\n",
      "│   ├── pub_nhmv10_BC_withObsScaled\n",
      "│   ├── wrf1960s_calib_nlcd2016\n",
      "│   ├── wrf2050s_calib_nlcd2016\n",
      "│   ├── wrfaorc_calib_nlcd2016\n",
      "│   ├── wrfaorc_withObsScaled\n",
      "│   ├── _hydro_model_flow_output\n",
      "│   └── _scaled_inflows\n",
      "├── observations\n",
      "│   ├── _raw\n",
      "│   ├── catchment_inflow_mgd.csv\n",
      "│   ├── gage_flow_mgd.csv\n",
      "│   └── reservoir_storage_mg.csv\n",
      "├── operational_constants\n",
      "│   ├── constants.csv\n",
      "│   ├── ffmp_reservoir_operation_daily_profiles.csv\n",
      "│   ├── ffmp_reservoir_operation_monthly_profiles.csv\n",
      "│   ├── ffmp_reservoir_operation_weekly_profiles.csv\n",
      "│   └── istarf_conus.csv\n",
      "└── spatial\n",
      "    └── to_be_determined.txt\n",
      "\n",
      "18 directories, 13 files\n"
     ]
    }
   ],
   "source": [
    "pn.scan(max_depth=2)  # scan the directory structure up to 2 levels deep\n",
    "pn.tree()"
   ]
  }
 ],
 "metadata": {
  "kernelspec": {
   "display_name": "drb",
   "language": "python",
   "name": "python3"
  },
  "language_info": {
   "codemirror_mode": {
    "name": "ipython",
    "version": 3
   },
   "file_extension": ".py",
   "mimetype": "text/x-python",
   "name": "python",
   "nbconvert_exporter": "python",
   "pygments_lexer": "ipython3",
   "version": "3.12.9"
  }
 },
 "nbformat": 4,
 "nbformat_minor": 2
}
