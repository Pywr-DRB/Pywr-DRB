{
 "cells": [
  {
   "cell_type": "markdown",
   "metadata": {},
   "source": [
    "# Tutoral: `pywrdrb.Plotter`\n",
    "\n",
    "## Overview\n",
    "\n",
    "The `pywrdrb.Output` class provides an easy method for loading and accessing Pywr-DRB model results.\n"
   ]
  },
  {
   "cell_type": "code",
   "execution_count": 1,
   "metadata": {},
   "outputs": [
    {
     "name": "stdout",
     "output_type": "stream",
     "text": [
      "Loading major_flow data from drb_output_nhmv10\n"
     ]
    },
    {
     "data": {
      "text/html": [
       "<div>\n",
       "<style scoped>\n",
       "    .dataframe tbody tr th:only-of-type {\n",
       "        vertical-align: middle;\n",
       "    }\n",
       "\n",
       "    .dataframe tbody tr th {\n",
       "        vertical-align: top;\n",
       "    }\n",
       "\n",
       "    .dataframe thead th {\n",
       "        text-align: right;\n",
       "    }\n",
       "</style>\n",
       "<table border=\"1\" class=\"dataframe\">\n",
       "  <thead>\n",
       "    <tr style=\"text-align: right;\">\n",
       "      <th></th>\n",
       "      <th>01417000</th>\n",
       "      <th>01425000</th>\n",
       "      <th>01433500</th>\n",
       "      <th>01436000</th>\n",
       "      <th>01447800</th>\n",
       "      <th>01449800</th>\n",
       "      <th>01463620</th>\n",
       "      <th>01470960</th>\n",
       "      <th>delDRCanal</th>\n",
       "      <th>delLordville</th>\n",
       "      <th>delMontague</th>\n",
       "      <th>delTrenton</th>\n",
       "      <th>outletAssunpink</th>\n",
       "      <th>outletSchuylkill</th>\n",
       "    </tr>\n",
       "  </thead>\n",
       "  <tbody>\n",
       "    <tr>\n",
       "      <th>1983-10-01</th>\n",
       "      <td>245.248604</td>\n",
       "      <td>192.037241</td>\n",
       "      <td>702.12651</td>\n",
       "      <td>216.100859</td>\n",
       "      <td>1296.612713</td>\n",
       "      <td>30.641998</td>\n",
       "      <td>77.324137</td>\n",
       "      <td>981.138761</td>\n",
       "      <td>872.861166</td>\n",
       "      <td>626.737443</td>\n",
       "      <td>1050.155248</td>\n",
       "      <td>804.943656</td>\n",
       "      <td>110.874962</td>\n",
       "      <td>329.747828</td>\n",
       "    </tr>\n",
       "  </tbody>\n",
       "</table>\n",
       "</div>"
      ],
      "text/plain": [
       "              01417000    01425000   01433500    01436000     01447800  \\\n",
       "1983-10-01  245.248604  192.037241  702.12651  216.100859  1296.612713   \n",
       "\n",
       "             01449800   01463620    01470960  delDRCanal  delLordville  \\\n",
       "1983-10-01  30.641998  77.324137  981.138761  872.861166    626.737443   \n",
       "\n",
       "            delMontague  delTrenton  outletAssunpink  outletSchuylkill  \n",
       "1983-10-01  1050.155248  804.943656       110.874962        329.747828  "
      ]
     },
     "execution_count": 1,
     "metadata": {},
     "output_type": "execute_result"
    }
   ],
   "source": [
    "import sys\n",
    "path_to_pywrdrb = '../'\n",
    "sys.path.append(path_to_pywrdrb)\n",
    "\n",
    "from pywrdrb import Output\n",
    "\n",
    "output_filenames = [\"drb_output_nhmv10\"]\n",
    "results_sets = ['major_flow'] #, 'res_storage', 'mrf_target', 'res_release']\n",
    "\n",
    "output = Output(output_filenames=output_filenames, \n",
    "                results_sets = results_sets,\n",
    "                print_status = True)\n",
    "output.load()\n",
    "\n",
    "\n",
    "## Access the data using format: \n",
    "output.major_flow[\"drb_output_nhmv10\"][0].head(1)"
   ]
  },
  {
   "cell_type": "code",
   "execution_count": 2,
   "metadata": {},
   "outputs": [
    {
     "ename": "TypeError",
     "evalue": "timeseries() missing 3 required positional arguments: 'options', 'scenarios', and 'variables'",
     "output_type": "error",
     "traceback": [
      "\u001b[1;31m---------------------------------------------------------------------------\u001b[0m",
      "\u001b[1;31mTypeError\u001b[0m                                 Traceback (most recent call last)",
      "Cell \u001b[1;32mIn[2], line 5\u001b[0m\n\u001b[0;32m      1\u001b[0m \u001b[38;5;28;01mfrom\u001b[39;00m \u001b[38;5;21;01mpywrdrb\u001b[39;00m \u001b[38;5;28;01mimport\u001b[39;00m Plotter\n\u001b[0;32m      3\u001b[0m plotter \u001b[38;5;241m=\u001b[39m Plotter(output)\n\u001b[1;32m----> 5\u001b[0m \u001b[43mplotter\u001b[49m\u001b[38;5;241;43m.\u001b[39;49m\u001b[43mplot\u001b[49m\u001b[43m(\u001b[49m\u001b[38;5;28;43mtype\u001b[39;49m\u001b[38;5;241;43m=\u001b[39;49m\u001b[38;5;124;43m'\u001b[39;49m\u001b[38;5;124;43mtimeseries\u001b[39;49m\u001b[38;5;124;43m'\u001b[39;49m\u001b[43m,\u001b[49m\n\u001b[0;32m      6\u001b[0m \u001b[43m             \u001b[49m\u001b[43mmodels\u001b[49m\u001b[38;5;241;43m=\u001b[39;49m\u001b[43m[\u001b[49m\u001b[38;5;124;43m'\u001b[39;49m\u001b[38;5;124;43mpywr_nhmv10\u001b[39;49m\u001b[38;5;124;43m'\u001b[39;49m\u001b[43m]\u001b[49m\u001b[43m,\u001b[49m\n\u001b[0;32m      7\u001b[0m \u001b[43m             \u001b[49m\u001b[43mresults_set\u001b[49m\u001b[38;5;241;43m=\u001b[39;49m\u001b[38;5;124;43m'\u001b[39;49m\u001b[38;5;124;43mmajor_flow\u001b[39;49m\u001b[38;5;124;43m'\u001b[39;49m\u001b[43m,\u001b[49m\n\u001b[0;32m      8\u001b[0m \u001b[43m             \u001b[49m\u001b[43mvariable\u001b[49m\u001b[38;5;241;43m=\u001b[39;49m\u001b[38;5;124;43m'\u001b[39;49m\u001b[38;5;124;43mdelTrenton\u001b[39;49m\u001b[38;5;124;43m'\u001b[39;49m\u001b[43m,\u001b[49m\u001b[43m \u001b[49m\n\u001b[0;32m      9\u001b[0m \u001b[43m             \u001b[49m\u001b[43mscenarios\u001b[49m\u001b[38;5;241;43m=\u001b[39;49m\u001b[43m[\u001b[49m\u001b[38;5;241;43m0\u001b[39;49m\u001b[43m]\u001b[49m\n\u001b[0;32m     10\u001b[0m \u001b[43m             \u001b[49m\u001b[43m)\u001b[49m\n",
      "File \u001b[1;32mc:\\Users\\tjame\\Desktop\\Research\\DRB\\Pywr-DRB\\Pywr-DRB\\notebooks\\..\\pywrdrb\\plotting\\results_plotter.py:163\u001b[0m, in \u001b[0;36mPlotter.plot\u001b[1;34m(self, results_set, models, scenarios, variable, type, **kwargs)\u001b[0m\n\u001b[0;32m    160\u001b[0m fig, ax \u001b[38;5;241m=\u001b[39m \u001b[38;5;28mself\u001b[39m\u001b[38;5;241m.\u001b[39m_initalize_figure()\n\u001b[0;32m    162\u001b[0m \u001b[38;5;28;01mif\u001b[39;00m \u001b[38;5;28mtype\u001b[39m \u001b[38;5;241m==\u001b[39m \u001b[38;5;124m\"\u001b[39m\u001b[38;5;124mtimeseries\u001b[39m\u001b[38;5;124m\"\u001b[39m:\n\u001b[1;32m--> 163\u001b[0m     timeseries(\n\u001b[0;32m    164\u001b[0m         ax,\n\u001b[0;32m    165\u001b[0m         output\u001b[38;5;241m=\u001b[39m\u001b[38;5;28mself\u001b[39m\u001b[38;5;241m.\u001b[39moutput,\n\u001b[0;32m    166\u001b[0m         results_set\u001b[38;5;241m=\u001b[39mresults_set,\n\u001b[0;32m    167\u001b[0m         models\u001b[38;5;241m=\u001b[39mmodels,\n\u001b[0;32m    168\u001b[0m         variable\u001b[38;5;241m=\u001b[39mvariable,\n\u001b[0;32m    169\u001b[0m         \u001b[38;5;241m*\u001b[39m\u001b[38;5;241m*\u001b[39mkwargs,\n\u001b[0;32m    170\u001b[0m     )\n\u001b[0;32m    171\u001b[0m \u001b[38;5;28;01melif\u001b[39;00m \u001b[38;5;28mtype\u001b[39m \u001b[38;5;241m==\u001b[39m \u001b[38;5;124m\"\u001b[39m\u001b[38;5;124mreservoir_dynamics\u001b[39m\u001b[38;5;124m\"\u001b[39m:\n\u001b[0;32m    172\u001b[0m     \u001b[38;5;28;01mpass\u001b[39;00m\n",
      "\u001b[1;31mTypeError\u001b[0m: timeseries() missing 3 required positional arguments: 'options', 'scenarios', and 'variables'"
     ]
    },
    {
     "data": {
      "image/png": "[encoded data removed]",
      "text/plain": [
       "<Figure size 500x500 with 1 Axes>"
      ]
     },
     "metadata": {},
     "output_type": "display_data"
    }
   ],
   "source": [
    "from pywrdrb import Plotter\n",
    "\n",
    "plotter = Plotter(output)\n",
    "\n",
    "plotter.plot(type='timeseries',\n",
    "             models=['pywr_nhmv10'],\n",
    "             results_set='major_flow',\n",
    "             variable='delTrenton', \n",
    "             scenarios=[0]\n",
    "             )"
   ]
  },
  {
   "cell_type": "code",
   "execution_count": null,
   "metadata": {},
   "outputs": [],
   "source": []
  }
 ],
 "metadata": {
  "kernelspec": {
   "display_name": "win_venv",
   "language": "python",
   "name": "python3"
  },
  "language_info": {
   "codemirror_mode": {
    "name": "ipython",
    "version": 3
   },
   "file_extension": ".py",
   "mimetype": "text/x-python",
   "name": "python",
   "nbconvert_exporter": "python",
   "pygments_lexer": "ipython3",
   "version": "3.10.10"
  }
 },
 "nbformat": 4,
 "nbformat_minor": 2
}
