{
 "cells": [
  {
   "cell_type": "markdown",
   "id": "70ab2dc9-2468-43cb-a368-ad45da30f6ec",
   "metadata": {},
   "source": [
    "# Tutoral: `pywrdrb.Data`\n",
    "\n",
    "## Overview\n",
    "\n",
    "There are multiple datasets that will be of interest when interacting with the `pywrdrb`, including:\n",
    "\n",
    "- Pywr-DRB output data (`\"output\"`) : Results from `pywrdrb` simulations (e.g., streamflow at model nodes, reservoir storage, flow targets, etc.)\n",
    "- Observation data (`\"obs\"`) : Measured USGS gauge streamflow and reservoir storage timeseries\n",
    "- Hydrologic Model Data (`\"nhmv10\"`, `\"nwmv21\"`): Outputs from external hydrologic models like NWMv2.1 or NHMv1.0.\n",
    "\n",
    "The `pywrdrb.Data` class is designed to provide easy methods for loading and accessing all of the datatypes.\n",
    "\n",
    "## `pywrdrb.Data()` Functionality\n",
    "\n",
    "\n",
    "\n",
    "\n",
    "### Arguments\n",
    "\n",
    "The keyword arguments are:\n",
    "\n",
    "- `output_dir` (str): Directory for output files.\n",
    "- `input_dir` (str): Directory for input files.\n",
    "- `datatypes` (list): List of data types to load. Options: 'output', 'obs', 'nhmv10', 'nwmv21' (default []).\n",
    "- `results_sets` (list): List of results sets to load (default [])\n",
    "- `output_filenames` (list): List of pywrdrb output filenames with path to load. Only necessary when `output` is in datatypes (default None).\n",
    "- `units` (str): Units for the results. (default 'MG').\n",
    "- `print_status` (bool): Whether to print status updates during load (default False).\n",
    "\n",
    "\n",
    "Keyword arguments can be provided during either the initialization or the load methods. I.e.,\n",
    "\n",
    "```python\n",
    "data = pywrdrb.Data(**kwargs)\n",
    "data.load()\n",
    "```\n",
    "\n",
    "or:\n",
    "\n",
    "```python\n",
    "data = pywrdrb.Data()\n",
    "data.load(**kwargs)\n",
    "```\n",
    "\n",
    "#### A note on `results_sets`...\n",
    "\n",
    "\n",
    "The `results_set` options are used to specify _what type of variables you are interested in_. For example, if you want to access the streamflow at major Pywr-DRB model nodes, then you want `results_sets = ['major_flow']`. Another example is `results_sets = [\"res_storage\"]` which returns reservoir storage timeseries. \n",
    "\n",
    "You can find descriptions of each `results_set` type in [`pywrdrb.utils.results_sets`](../pywrdrb/utils/results_sets.py).\n",
    "\n",
    "Different `datatypes` have different valid `results_set` options. \n",
    "\n",
    "- `\"output\"` data can access all results_set options\n",
    "- `\"obs\"` data can only access results_set in `['major_flow', 'reservoir_downstream_gage', 'res_storage']`\n",
    "- `\"nhmv10\"` and `\"nwmv21\"` can only access results_set in `['major_flow', 'reservoir_downstream_gage']`\n",
    "\n",
    "\n",
    "Fortunately, the `pywrdrb.Data` class will identify valid results_set options for each datatype, and only process those valid options. \n",
    "\n",
    "\n",
    "### Accessing Data\n",
    "\n",
    "Given that there are multiple datasets of interest, the `pywrdrb.Data` class uses a hierarchical structure for storing this data within the `pywrdrb.Data` object. \n",
    "\n",
    "After using `pywrdrb.Data().load()`, results are stored in the class as a nested dictionary structure following:\n",
    "\n",
    "```python\n",
    "data = pywrdrb.Data()\n",
    "data.load(**kwargs)\n",
    "\n",
    "data.results_set[datatype_label][scenario_number] -> pd.DataFrame\n",
    "```\n",
    "\n",
    "#### A note on the `dataset` labeling...\n",
    "\n",
    "\n",
    "In the `pywrdrb.Data` class, the `dataset_label` for `\"output\"` datatypes is derived from the output filenames. This label serves as a key in the final stored data, allowing users to identify and access results associated with custom `pywrdrb` simulations or scenarios.\n",
    "\n",
    "For example, if you run a `pywrdrb` simulation and store the results in `output_file = \"<path>/my_simulation.hdf5\"`, then these simulation results can be accessed using:\n",
    "\n",
    "```python\n",
    "data = pywrdrb.Data()\n",
    "data.load(\n",
    "    datatypes = ['output'],\n",
    "    output_filenames = [output_file],\n",
    "    results_sets = ['major_flow']\n",
    "    )\n",
    "\n",
    "# Access custom output data\n",
    "data.major_flow[\"my_simulation\"][0]\n",
    "```"
   ]
  },
  {
   "cell_type": "code",
   "execution_count": 1,
   "id": "14d642c6",
   "metadata": {},
   "outputs": [],
   "source": [
    "# Set path to access pywrdrb\n",
    "import sys\n",
    "path_to_pywrdrb = '../'\n",
    "sys.path.append(path_to_pywrdrb)\n",
    "\n",
    "\n",
    "from pywrdrb import Data\n",
    "from pywrdrb.utils.directories import output_dir\n",
    "\n",
    "# List of datatypes to load\n",
    "# Options: 'obs', 'output', 'nhmv10', 'nwmv21'\n",
    "datatypes = ['output', 'obs', 'nhmv10']\n",
    "\n",
    "# List of pywrdrb output files, with path\n",
    "# NOTE: This is only necessary if 'output' is in datatypes\n",
    "output_files = [\n",
    "    rf\"{output_dir}drb_output_nhmv10.hdf5\",\n",
    "]\n",
    "\n",
    "# List of results sets to load \n",
    "# See pywrdrb.utils.results_sets for available results sets\n",
    "results_sets = [\n",
    "    'major_flow',\n",
    "    'res_storage'\n",
    "]\n"
   ]
  },
  {
   "cell_type": "code",
   "execution_count": 2,
   "id": "30463f43",
   "metadata": {},
   "outputs": [
    {
     "name": "stdout",
     "output_type": "stream",
     "text": [
      "Loading output data...\n",
      "Loading major_flow data from drb_output_nhmv10\n",
      "Loading res_storage data from drb_output_nhmv10\n",
      "Loading obs data...\n",
      "Loading major_flow data from observations\n",
      "Loading res_storage data from observations\n",
      "Loading nhmv10 data...\n",
      "Loading major_flow data from nhmv10\n"
     ]
    },
    {
     "data": {
      "text/html": [
       "<div>\n",
       "<style scoped>\n",
       "    .dataframe tbody tr th:only-of-type {\n",
       "        vertical-align: middle;\n",
       "    }\n",
       "\n",
       "    .dataframe tbody tr th {\n",
       "        vertical-align: top;\n",
       "    }\n",
       "\n",
       "    .dataframe thead th {\n",
       "        text-align: right;\n",
       "    }\n",
       "</style>\n",
       "<table border=\"1\" class=\"dataframe\">\n",
       "  <thead>\n",
       "    <tr style=\"text-align: right;\">\n",
       "      <th></th>\n",
       "      <th>01417000</th>\n",
       "      <th>01425000</th>\n",
       "      <th>01433500</th>\n",
       "      <th>01436000</th>\n",
       "      <th>01447800</th>\n",
       "      <th>01449800</th>\n",
       "      <th>01463620</th>\n",
       "      <th>01470960</th>\n",
       "      <th>delDRCanal</th>\n",
       "      <th>delLordville</th>\n",
       "      <th>delMontague</th>\n",
       "      <th>delTrenton</th>\n",
       "      <th>outletAssunpink</th>\n",
       "      <th>outletSchuylkill</th>\n",
       "    </tr>\n",
       "  </thead>\n",
       "  <tbody>\n",
       "    <tr>\n",
       "      <th>1983-10-01</th>\n",
       "      <td>245.248604</td>\n",
       "      <td>192.037241</td>\n",
       "      <td>702.126510</td>\n",
       "      <td>216.100859</td>\n",
       "      <td>1296.612713</td>\n",
       "      <td>30.641998</td>\n",
       "      <td>77.324137</td>\n",
       "      <td>981.138761</td>\n",
       "      <td>872.861166</td>\n",
       "      <td>626.737443</td>\n",
       "      <td>1050.155248</td>\n",
       "      <td>804.943656</td>\n",
       "      <td>110.874962</td>\n",
       "      <td>329.747828</td>\n",
       "    </tr>\n",
       "    <tr>\n",
       "      <th>1983-10-02</th>\n",
       "      <td>157.896171</td>\n",
       "      <td>150.911779</td>\n",
       "      <td>716.300505</td>\n",
       "      <td>60.483957</td>\n",
       "      <td>1298.492457</td>\n",
       "      <td>32.867673</td>\n",
       "      <td>77.732775</td>\n",
       "      <td>982.026219</td>\n",
       "      <td>1837.957440</td>\n",
       "      <td>514.753462</td>\n",
       "      <td>2386.712148</td>\n",
       "      <td>1772.532316</td>\n",
       "      <td>132.337899</td>\n",
       "      <td>688.332292</td>\n",
       "    </tr>\n",
       "  </tbody>\n",
       "</table>\n",
       "</div>"
      ],
      "text/plain": [
       "              01417000    01425000    01433500    01436000     01447800  \\\n",
       "1983-10-01  245.248604  192.037241  702.126510  216.100859  1296.612713   \n",
       "1983-10-02  157.896171  150.911779  716.300505   60.483957  1298.492457   \n",
       "\n",
       "             01449800   01463620    01470960   delDRCanal  delLordville  \\\n",
       "1983-10-01  30.641998  77.324137  981.138761   872.861166    626.737443   \n",
       "1983-10-02  32.867673  77.732775  982.026219  1837.957440    514.753462   \n",
       "\n",
       "            delMontague   delTrenton  outletAssunpink  outletSchuylkill  \n",
       "1983-10-01  1050.155248   804.943656       110.874962        329.747828  \n",
       "1983-10-02  2386.712148  1772.532316       132.337899        688.332292  "
      ]
     },
     "execution_count": 2,
     "metadata": {},
     "output_type": "execute_result"
    }
   ],
   "source": [
    "# Initialize Data object and load data\n",
    "data = Data(print_status=True)\n",
    "\n",
    "data.load(datatypes=datatypes, \n",
    "          output_filenames=output_files, \n",
    "          results_sets=results_sets\n",
    "          )\n",
    "\n",
    "# show an example of the major_flow results set for `drb_output_nhmv10` output file\n",
    "data.major_flow['drb_output_nhmv10'][0].head(2)"
   ]
  },
  {
   "cell_type": "code",
   "execution_count": 3,
   "id": "e136edf0",
   "metadata": {},
   "outputs": [
    {
     "data": {
      "text/plain": [
       "['drb_output_nhmv10', 'obs', 'nhmv10']"
      ]
     },
     "execution_count": 3,
     "metadata": {},
     "output_type": "execute_result"
    }
   ],
   "source": [
    "# check the datatype keys stored in the data object\n",
    "list(data.major_flow.keys())"
   ]
  },
  {
   "cell_type": "code",
   "execution_count": 4,
   "id": "a46ae1fb",
   "metadata": {},
   "outputs": [
    {
     "data": {
      "image/png": "[encoded data removed]",
      "text/plain": [
       "<Figure size 400x400 with 1 Axes>"
      ]
     },
     "metadata": {},
     "output_type": "display_data"
    }
   ],
   "source": [
    "import matplotlib.pyplot as plt\n",
    "\n",
    "plt.figure(figsize=(4,4))\n",
    "plt.scatter(data.major_flow['drb_output_nhmv10'][0].loc[:, 'delTrenton'], \n",
    "            data.major_flow['nhmv10'][0].loc[:, 'delTrenton'], alpha=0.3)\n",
    "plt.ylabel('NHMv1.0 flow at Trenton')\n",
    "plt.xlabel('Pywr-DRB simulated flow using NHMv1.0 as input')\n",
    "plt.yscale('log')\n",
    "plt.xscale('log')\n",
    "plt.show()"
   ]
  },
  {
   "cell_type": "markdown",
   "id": "1f41fb80",
   "metadata": {},
   "source": [
    "## Exporting custom datasets\n",
    "\n",
    "Once a `pywrdrb.Data` object has been loaded and populated with data, then you can export the full contents of the `pywrdrb.Data` object to a custom HDF5 file.  This custom dataset can then be re-loaded later, without having to replicate the original `pywrdbr.Data.load()` workflow shown above. \n",
    "\n",
    "The code block below shows how the previously generated `data` object can be exported and re-loaded. "
   ]
  },
  {
   "cell_type": "code",
   "execution_count": 5,
   "id": "0606ef33",
   "metadata": {},
   "outputs": [
    {
     "name": "stderr",
     "output_type": "stream",
     "text": [
      "c:\\Users\\tjame\\Desktop\\Research\\DRB\\Pywr-DRB\\Pywr-DRB\\win_venv\\lib\\site-packages\\tables\\path.py:137: NaturalNameWarning: object name is not a valid Python identifier: '0'; it does not match the pattern ``^[a-zA-Z_][a-zA-Z0-9_]*$``; you will not be able to use natural naming to access this object; using ``getattr()`` will still work, though\n",
      "  check_attribute_name(name)\n"
     ]
    },
    {
     "data": {
      "text/plain": [
       "True"
      ]
     },
     "execution_count": 5,
     "metadata": {},
     "output_type": "execute_result"
    }
   ],
   "source": [
    "# Custom dataset filename\n",
    "custom_datafile = rf\"{output_dir}custom_datset.hdf5\"\n",
    "\n",
    "# Export the data object to a custom dataset\n",
    "data.export(custom_datafile)\n",
    "\n",
    "# Make a new data object and load the custom dataset\n",
    "data2 = Data(print_status=True)\n",
    "data2.load_from_export(custom_datafile)\n",
    "\n",
    "\n",
    "# Show that the data object contents are the same\n",
    "data2.major_flow.keys() == data.major_flow.keys()\n",
    "data2.major_flow['drb_output_nhmv10'][0].equals(data.major_flow['drb_output_nhmv10'][0])"
   ]
  },
  {
   "cell_type": "markdown",
   "id": "d60fc44d",
   "metadata": {},
   "source": [
    "## Technical detail (To be completed...)\n",
    "\n",
    "The `pywrdrb.Data` class relies on multiple different .\n",
    "\n",
    "- `AbstractDataLoader`: The base class defining shared methods for parsing arguments, validating datasets, and handling attributes.\n",
    "    - `Output(AbstractDataLoader)`: Loads Pywr-DRB simulation results.\n",
    "    - `Observation(AbstractDataLoader)`: Loads observational data.\n",
    "    - `HydrologicModelFlow(AbstractDataLoader)`: Loads hydrologic model outputs.\n",
    "- `get_pywrdrb_results()`: Handles loading results from simulation output files; used in `Output(AbstractDataLoader)`.\n",
    "- `get_base_results()`: Loads observation or hydrologic model data; used in `Observation` and` HydrologicModelFlow` classes.\n",
    "\n",
    "\n",
    "\n",
    "## `Output` Class\n",
    "\n",
    "The `Output` class consolidates this entire process into a single `load()` method, automatically validating inputs, handling scenarios, and storing results inside the Ouput `object`.\n",
    "\n",
    "`Output.load()` uses `get_pywrdrb_results()` to fetch data for all specified `models` and `results_sets`. It manages datetime indexing and scenarios, and then stores the results as attributes within the class.\n",
    "\n",
    "\n",
    "### pywrdrb.post.get_pywrdrb_results()\n",
    "\n",
    "The `get_pywrdrb_results()` reads data from Pywr-DRB output files (`hdf5`) stored in the output directory and returns a dictionary of results along with a datetime index. \n",
    "\n",
    "This function is designed to handle different result types (`results_sets`), such as `\"res_storage\"`, `\"major_flow\"`, `\"res_release\"`, and more. This function makes it easy to extract specific variables, but it requires specifying each results_set separately and can be slow when constructing date indexes.\n",
    "\n",
    "## `Observation` Class\n",
    "\n",
    "TBC.\n",
    "\n",
    "## `HydrologicModelFlow` Class\n",
    "\n",
    "TBC."
   ]
  }
 ],
 "metadata": {
  "kernelspec": {
   "display_name": "win_venv",
   "language": "python",
   "name": "python3"
  },
  "language_info": {
   "codemirror_mode": {
    "name": "ipython",
    "version": 3
   },
   "file_extension": ".py",
   "mimetype": "text/x-python",
   "name": "python",
   "nbconvert_exporter": "python",
   "pygments_lexer": "ipython3",
   "version": "3.10.10"
  }
 },
 "nbformat": 4,
 "nbformat_minor": 5
}
