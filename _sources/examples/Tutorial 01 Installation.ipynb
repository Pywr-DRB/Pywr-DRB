{
 "cells": [
  {
   "cell_type": "markdown",
   "id": "f870a84a",
   "metadata": {},
   "source": [
    "# Tutorial 1: Installation Guide\n",
    "\n",
    "\n",
    "## Step 1: Create a virtual environment\n",
    "\n",
    "For **Windows**:\n",
    "```bash\n",
    "python -m venv venv\n",
    "venv\\Scripts\\activate\n",
    "```\n",
    "For **Mac/Linux**:\n",
    "```bash\n",
    "python3 -m venv venv\n",
    "source venv/bin/activate\n",
    "```"
   ]
  },
  {
   "cell_type": "markdown",
   "id": "0b7245de",
   "metadata": {},
   "source": [
    "## Step 2: Installing via pip\n",
    "### Step 2A: Recommended (Quick)\n",
    "\n",
    "After activating the virtual environment, simply run:\n",
    "\n",
    "```bash\n",
    "pip install git+https://github.com/Pywr-DRB/Pywr-DRB.git\n",
    "```\n",
    "**No need to clone the repository.**  \n",
    "This installs the latest official package version, ready for use."
   ]
  },
  {
   "cell_type": "markdown",
   "id": "9c7a7cfa",
   "metadata": {},
   "source": [
    "### Step 2B: Alternative Installation (Developer Mode)\n",
    "\n",
    "If you want to work directly with the source code, first clone or download the repository:\n",
    "\n",
    "```bash\n",
    "git clone https://github.com/Pywr-DRB/Pywr-DRB.git\n",
    "cd Pywr-DRB\n",
    "```\n",
    "Then install it in editable mode:\n",
    "```bash\n",
    "pip install -e .\n",
    "```\n",
    "This lets you make local changes that immediately affect the installed package."
   ]
  },
  {
   "cell_type": "markdown",
   "id": "b8740575",
   "metadata": {},
   "source": [
    "### Step 3: Verify the installation\n"
   ]
  },
  {
   "cell_type": "code",
   "execution_count": 8,
   "id": "30577163",
   "metadata": {},
   "outputs": [],
   "source": [
    "import pywrdrb"
   ]
  },
  {
   "cell_type": "markdown",
   "id": "a1b19c50",
   "metadata": {},
   "source": [
    "### Next Steps\n",
    "\n",
    "To get started, check out the example notebooks provided in the  \n",
    "[Pywr-DRB GitHub repository](https://github.com/Pywr-DRB/Pywr-DRB) under the `notebooks/` folder.\n",
    "\n",
    "These cover:\n",
    "- Running a simulation and viewing results\n",
    "- Setting up custom datasets and optimization workflows"
   ]
  }
 ],
 "metadata": {
  "kernelspec": {
   "display_name": ".venv",
   "language": "python",
   "name": "python3"
  },
  "language_info": {
   "codemirror_mode": {
    "name": "ipython",
    "version": 3
   },
   "file_extension": ".py",
   "mimetype": "text/x-python",
   "name": "python",
   "nbconvert_exporter": "python",
   "pygments_lexer": "ipython3",
   "version": "3.12.10"
  }
 },
 "nbformat": 4,
 "nbformat_minor": 5
}
