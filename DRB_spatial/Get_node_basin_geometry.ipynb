{
 "cells": [
  {
   "cell_type": "markdown",
   "id": "709ac990",
   "metadata": {},
   "source": [
    "# Overview\n",
    "\n",
    "This notebook walks through the process of disaggregating DRB demand data to the nodes of interest. \n",
    "\n"
   ]
  },
  {
   "cell_type": "code",
   "execution_count": 1,
   "id": "95c0071e",
   "metadata": {},
   "outputs": [
    {
     "name": "stderr",
     "output_type": "stream",
     "text": [
      "C:\\Users\\tja73\\AppData\\Local\\Temp\\ipykernel_210216\\658207185.py:6: UserWarning: Shapely 2.0 is installed, but because PyGEOS is also installed, GeoPandas will still use PyGEOS by default for now. To force to use and test Shapely 2.0, you have to set the environment variable USE_PYGEOS=0. You can do this before starting the Python process, or in your code before importing geopandas:\n",
      "\n",
      "import os\n",
      "os.environ['USE_PYGEOS'] = '0'\n",
      "import geopandas\n",
      "\n",
      "In a future release, GeoPandas will switch to using Shapely by default. If you are using PyGEOS directly (calling PyGEOS functions on geometries from GeoPandas), this will then stop working and you are encouraged to migrate from PyGEOS to Shapely 2.0 (https://shapely.readthedocs.io/en/latest/migration_pygeos.html).\n",
      "  import geopandas as gpd\n"
     ]
    }
   ],
   "source": [
    "# Standard libraries\n",
    "import numpy as np\n",
    "import pandas as pd\n",
    "\n",
    "# Geospatial libraries\n",
    "import geopandas as gpd\n",
    "\n",
    "# Data acquisition libraries\n",
    "from pynhd import NLDI, NHDPlusHR, WaterData"
   ]
  },
  {
   "cell_type": "markdown",
   "id": "50bb670f",
   "metadata": {},
   "source": [
    "# Step 0: Load data\n",
    "\n",
    "Load Pywr-DRB nodes.\n",
    "\n",
    "Load Pywr-DRB USGS data sources, and unpack the list where multiple gauges are listed for a single node. \n"
   ]
  },
  {
   "cell_type": "code",
   "execution_count": 2,
   "id": "7aadda74",
   "metadata": {},
   "outputs": [],
   "source": [
    "### Load data\n",
    "# Constants\n",
    "crs = 4386\n",
    "\n",
    "# Pywr nodes\n",
    "nodes = pd.read_csv('../model_data/drb_model_nodes.csv', sep = ',')\n",
    "drb_boundary = gpd.read_file('DRB_shapefiles/drb_bnd_polygon.shp')\n",
    "drb_boundary = drb_boundary.to_crs(crs)\n"
   ]
  },
  {
   "cell_type": "code",
   "execution_count": 3,
   "id": "de772a18",
   "metadata": {
    "scrolled": true
   },
   "outputs": [],
   "source": [
    "# Get long-lat at all nodes of interest\n",
    "reservoir_nodes = nodes.loc[nodes.type=='storage']\n",
    "\n",
    "stem_nodes = ['link_delTrenton', 'link_delMontague', 'link_delLordville', \n",
    "               'link_outletAssunpink', 'link_outletSchuylkill', 'link_outletChristina']\n",
    "\n",
    "other_nodes = nodes.loc[nodes.name.isin(stem_nodes)]\n",
    "\n",
    "physical_nodes = pd.concat([reservoir_nodes, other_nodes], axis=0)\n",
    "physical_nodes.reset_index(inplace=True)\n",
    "\n",
    "# Pull just long,lat and make numpy\n",
    "loc_data = physical_nodes[['long', 'lat']].to_numpy()"
   ]
  },
  {
   "cell_type": "code",
   "execution_count": 4,
   "id": "603db609",
   "metadata": {},
   "outputs": [],
   "source": [
    "# Start a new DF to store data\n",
    "node_geo_data = pd.DataFrame()\n",
    "node_geo_data['node'] = physical_nodes.name\n",
    "node_geo_data['long'] = physical_nodes.long\n",
    "node_geo_data['lat'] = physical_nodes.lat"
   ]
  },
  {
   "cell_type": "markdown",
   "id": "3b4860cb",
   "metadata": {},
   "source": [
    "# Step 1: Get basin geometries\n",
    "\n",
    "Use the station number (with a leading '0') to find each basin."
   ]
  },
  {
   "cell_type": "code",
   "execution_count": 5,
   "id": "c63b3af9",
   "metadata": {},
   "outputs": [],
   "source": [
    "nldi = NLDI()\n",
    "comid_data = nldi.comid_byloc(coords = list(loc_data[0:,:]))"
   ]
  },
  {
   "cell_type": "code",
   "execution_count": 6,
   "id": "719c22f7",
   "metadata": {},
   "outputs": [
    {
     "data": {
      "text/html": [
       "<div>\n",
       "<style scoped>\n",
       "    .dataframe tbody tr th:only-of-type {\n",
       "        vertical-align: middle;\n",
       "    }\n",
       "\n",
       "    .dataframe tbody tr th {\n",
       "        vertical-align: top;\n",
       "    }\n",
       "\n",
       "    .dataframe thead th {\n",
       "        text-align: right;\n",
       "    }\n",
       "</style>\n",
       "<table border=\"1\" class=\"dataframe\">\n",
       "  <thead>\n",
       "    <tr style=\"text-align: right;\">\n",
       "      <th></th>\n",
       "      <th>node</th>\n",
       "      <th>long</th>\n",
       "      <th>lat</th>\n",
       "      <th>comid</th>\n",
       "      <th>reachcode</th>\n",
       "      <th>geometry</th>\n",
       "    </tr>\n",
       "  </thead>\n",
       "  <tbody>\n",
       "    <tr>\n",
       "      <th>0</th>\n",
       "      <td>reservoir_cannonsville</td>\n",
       "      <td>-75.374620</td>\n",
       "      <td>42.065872</td>\n",
       "      <td>2614136</td>\n",
       "      <td>02040101005432</td>\n",
       "      <td>POLYGON ((-75.25965 42.07860, -75.25913 42.075...</td>\n",
       "    </tr>\n",
       "    <tr>\n",
       "      <th>1</th>\n",
       "      <td>reservoir_pepacton</td>\n",
       "      <td>-74.965531</td>\n",
       "      <td>42.073603</td>\n",
       "      <td>1748727</td>\n",
       "      <td>02040102000078</td>\n",
       "      <td>POLYGON ((-74.97852 42.05968, -74.98468 42.064...</td>\n",
       "    </tr>\n",
       "    <tr>\n",
       "      <th>2</th>\n",
       "      <td>reservoir_neversink</td>\n",
       "      <td>-74.643266</td>\n",
       "      <td>41.821286</td>\n",
       "      <td>4147432</td>\n",
       "      <td>02040104000138</td>\n",
       "      <td>POLYGON ((-74.63683 41.78541, -74.63870 41.787...</td>\n",
       "    </tr>\n",
       "  </tbody>\n",
       "</table>\n",
       "</div>"
      ],
      "text/plain": [
       "                     node       long        lat    comid       reachcode  \\\n",
       "0  reservoir_cannonsville -75.374620  42.065872  2614136  02040101005432   \n",
       "1      reservoir_pepacton -74.965531  42.073603  1748727  02040102000078   \n",
       "2     reservoir_neversink -74.643266  41.821286  4147432  02040104000138   \n",
       "\n",
       "                                            geometry  \n",
       "0  POLYGON ((-75.25965 42.07860, -75.25913 42.075...  \n",
       "1  POLYGON ((-74.97852 42.05968, -74.98468 42.064...  \n",
       "2  POLYGON ((-74.63683 41.78541, -74.63870 41.787...  "
      ]
     },
     "execution_count": 6,
     "metadata": {},
     "output_type": "execute_result"
    }
   ],
   "source": [
    "# Store data\n",
    "node_geo_data['comid'] = comid_data.comid\n",
    "node_geo_data['reachcode'] = comid_data.reachcode\n",
    "\n",
    "# Get basin geometry\n",
    "node_basins = nldi.get_basins(list(node_geo_data['comid'].values), fsource='comid', split_catchment = True)\n",
    "\n",
    "node_geo_data['geometry'] = node_basins.reset_index().geometry\n",
    "node_geo_data = gpd.GeoDataFrame(node_geo_data, geometry=node_geo_data['geometry'])\n",
    "node_geo_data.to_crs(crs)\n",
    "\n",
    "node_geo_data.head(3)"
   ]
  },
  {
   "cell_type": "code",
   "execution_count": 7,
   "id": "f12d08bc",
   "metadata": {},
   "outputs": [
    {
     "data": {
      "text/plain": [
       "<AxesSubplot: >"
      ]
     },
     "execution_count": 7,
     "metadata": {},
     "output_type": "execute_result"
    },
    {
     "data": {
      "image/png": "[encoded data removed]",
      "text/plain": [
       "<Figure size 640x480 with 1 Axes>"
      ]
     },
     "metadata": {},
     "output_type": "display_data"
    }
   ],
   "source": [
    "# Visualize\n",
    "ax =node_geo_data.plot(column = 'node', edgecolor = 'black', alpha = 0.5)\n",
    "drb_boundary.plot(ax=ax, color = 'none', edgecolor = '0.5')"
   ]
  },
  {
   "cell_type": "code",
   "execution_count": 8,
   "id": "fb9d0367",
   "metadata": {},
   "outputs": [],
   "source": [
    "# Export\n",
    "node_geo_data.to_file(\"./DRB_shapefiles/node_basin_geometries.shp\")"
   ]
  },
  {
   "cell_type": "code",
   "execution_count": null,
   "id": "31e9b7b8",
   "metadata": {},
   "outputs": [],
   "source": []
  }
 ],
 "metadata": {
  "kernelspec": {
   "display_name": "Python 3 (ipykernel)",
   "language": "python",
   "name": "python3"
  },
  "language_info": {
   "codemirror_mode": {
    "name": "ipython",
    "version": 3
   },
   "file_extension": ".py",
   "mimetype": "text/x-python",
   "name": "python",
   "nbconvert_exporter": "python",
   "pygments_lexer": "ipython3",
   "version": "3.8.16"
  }
 },
 "nbformat": 4,
 "nbformat_minor": 5
}
